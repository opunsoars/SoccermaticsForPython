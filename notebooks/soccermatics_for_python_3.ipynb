{
 "cells": [
  {
   "cell_type": "code",
   "execution_count": 2,
   "metadata": {
    "Collapsed": "false"
   },
   "outputs": [],
   "source": [
    "\n",
    "#The basics\n",
    "import pandas as pd\n",
    "import numpy as np\n",
    "import json\n",
    "\n",
    "#Plotting\n",
    "import matplotlib.pyplot as plt\n",
    "# import FCPython \n",
    "\n",
    "#Statistical fitting of models\n",
    "import statsmodels.api as sm\n",
    "import statsmodels.formula.api as smf"
   ]
  },
  {
   "cell_type": "code",
   "execution_count": 48,
   "metadata": {
    "Collapsed": "false"
   },
   "outputs": [
    {
     "data": {
      "text/html": [
       "<div>\n",
       "<style scoped>\n",
       "    .dataframe tbody tr th:only-of-type {\n",
       "        vertical-align: middle;\n",
       "    }\n",
       "\n",
       "    .dataframe tbody tr th {\n",
       "        vertical-align: top;\n",
       "    }\n",
       "\n",
       "    .dataframe thead th {\n",
       "        text-align: right;\n",
       "    }\n",
       "</style>\n",
       "<table border=\"1\" class=\"dataframe\">\n",
       "  <thead>\n",
       "    <tr style=\"text-align: right;\">\n",
       "      <th></th>\n",
       "      <th>eventId</th>\n",
       "      <th>subEventName</th>\n",
       "      <th>tags</th>\n",
       "      <th>playerId</th>\n",
       "      <th>positions</th>\n",
       "      <th>matchId</th>\n",
       "      <th>eventName</th>\n",
       "      <th>teamId</th>\n",
       "      <th>matchPeriod</th>\n",
       "      <th>eventSec</th>\n",
       "      <th>subEventId</th>\n",
       "      <th>id</th>\n",
       "    </tr>\n",
       "  </thead>\n",
       "  <tbody>\n",
       "    <tr>\n",
       "      <th>454801</th>\n",
       "      <td>7</td>\n",
       "      <td>Touch</td>\n",
       "      <td>[{'id': 1401}]</td>\n",
       "      <td>20441</td>\n",
       "      <td>[{'y': 79, 'x': 41}, {'y': 63, 'x': 54}]</td>\n",
       "      <td>2499987</td>\n",
       "      <td>Others on the ball</td>\n",
       "      <td>1624</td>\n",
       "      <td>2H</td>\n",
       "      <td>2149.718358</td>\n",
       "      <td>72</td>\n",
       "      <td>227180873</td>\n",
       "    </tr>\n",
       "    <tr>\n",
       "      <th>212883</th>\n",
       "      <td>1</td>\n",
       "      <td>Ground attacking duel</td>\n",
       "      <td>[{'id': 703}, {'id': 1801}]</td>\n",
       "      <td>258162</td>\n",
       "      <td>[{'y': 44, 'x': 66}, {'y': 45, 'x': 68}]</td>\n",
       "      <td>2499846</td>\n",
       "      <td>Duel</td>\n",
       "      <td>10531</td>\n",
       "      <td>1H</td>\n",
       "      <td>2691.619003</td>\n",
       "      <td>11</td>\n",
       "      <td>208945168</td>\n",
       "    </tr>\n",
       "    <tr>\n",
       "      <th>168160</th>\n",
       "      <td>8</td>\n",
       "      <td>Simple pass</td>\n",
       "      <td>[{'id': 1801}]</td>\n",
       "      <td>77558</td>\n",
       "      <td>[{'y': 74, 'x': 26}, {'y': 68, 'x': 21}]</td>\n",
       "      <td>2499820</td>\n",
       "      <td>Pass</td>\n",
       "      <td>1623</td>\n",
       "      <td>1H</td>\n",
       "      <td>1272.957220</td>\n",
       "      <td>85</td>\n",
       "      <td>203361676</td>\n",
       "    </tr>\n",
       "    <tr>\n",
       "      <th>394759</th>\n",
       "      <td>8</td>\n",
       "      <td>Simple pass</td>\n",
       "      <td>[{'id': 1801}]</td>\n",
       "      <td>8624</td>\n",
       "      <td>[{'y': 67, 'x': 63}, {'y': 77, 'x': 71}]</td>\n",
       "      <td>2499952</td>\n",
       "      <td>Pass</td>\n",
       "      <td>1623</td>\n",
       "      <td>1H</td>\n",
       "      <td>1490.904533</td>\n",
       "      <td>85</td>\n",
       "      <td>222330969</td>\n",
       "    </tr>\n",
       "    <tr>\n",
       "      <th>416799</th>\n",
       "      <td>5</td>\n",
       "      <td>Ball out of the field</td>\n",
       "      <td>[]</td>\n",
       "      <td>0</td>\n",
       "      <td>[{'y': 100, 'x': 74}, {'y': 100, 'x': 100}]</td>\n",
       "      <td>2499965</td>\n",
       "      <td>Interruption</td>\n",
       "      <td>1651</td>\n",
       "      <td>1H</td>\n",
       "      <td>1815.027019</td>\n",
       "      <td>50</td>\n",
       "      <td>225246111</td>\n",
       "    </tr>\n",
       "  </tbody>\n",
       "</table>\n",
       "</div>"
      ],
      "text/plain": [
       "        eventId           subEventName                         tags  playerId  \\\n",
       "454801        7                  Touch               [{'id': 1401}]     20441   \n",
       "212883        1  Ground attacking duel  [{'id': 703}, {'id': 1801}]    258162   \n",
       "168160        8            Simple pass               [{'id': 1801}]     77558   \n",
       "394759        8            Simple pass               [{'id': 1801}]      8624   \n",
       "416799        5  Ball out of the field                           []         0   \n",
       "\n",
       "                                          positions  matchId  \\\n",
       "454801     [{'y': 79, 'x': 41}, {'y': 63, 'x': 54}]  2499987   \n",
       "212883     [{'y': 44, 'x': 66}, {'y': 45, 'x': 68}]  2499846   \n",
       "168160     [{'y': 74, 'x': 26}, {'y': 68, 'x': 21}]  2499820   \n",
       "394759     [{'y': 67, 'x': 63}, {'y': 77, 'x': 71}]  2499952   \n",
       "416799  [{'y': 100, 'x': 74}, {'y': 100, 'x': 100}]  2499965   \n",
       "\n",
       "                 eventName  teamId matchPeriod     eventSec subEventId  \\\n",
       "454801  Others on the ball    1624          2H  2149.718358         72   \n",
       "212883                Duel   10531          1H  2691.619003         11   \n",
       "168160                Pass    1623          1H  1272.957220         85   \n",
       "394759                Pass    1623          1H  1490.904533         85   \n",
       "416799        Interruption    1651          1H  1815.027019         50   \n",
       "\n",
       "               id  \n",
       "454801  227180873  \n",
       "212883  208945168  \n",
       "168160  203361676  \n",
       "394759  222330969  \n",
       "416799  225246111  "
      ]
     },
     "execution_count": 48,
     "metadata": {},
     "output_type": "execute_result"
    }
   ],
   "source": [
    "#Decide which league to load\n",
    "#Wyscout data from https://figshare.com/collections/Soccer_match_event_dataset/4415000/2\n",
    "with open('../../datahub/wyscout_figshare/Events/events_England.json') as f:\n",
    "    data = json.load(f)\n",
    "#Create a data set of shots.\n",
    "train = pd.DataFrame(data)\n",
    "train.sample(5)"
   ]
  },
  {
   "cell_type": "code",
   "execution_count": 49,
   "metadata": {
    "Collapsed": "false"
   },
   "outputs": [
    {
     "data": {
      "text/plain": [
       "array(['Simple pass', 'High pass', 'Head pass', 'Air duel',\n",
       "       'Ground loose ball duel', 'Smart pass', 'Launch',\n",
       "       'Ground defending duel', 'Ground attacking duel', 'Foul',\n",
       "       'Free Kick', 'Cross', 'Shot', 'Reflexes', 'Touch', 'Clearance',\n",
       "       'Ball out of the field', 'Throw in', 'Goal kick', 'Corner',\n",
       "       'Goalkeeper leaving line', 'Hand pass', 'Acceleration',\n",
       "       'Save attempt', '', 'Free kick cross', 'Free kick shot',\n",
       "       'Hand foul', 'Violent Foul', 'Protest', 'Whistle',\n",
       "       'Late card foul', 'Out of game foul', 'Penalty', 'Time lost foul',\n",
       "       'Simulation'], dtype=object)"
      ]
     },
     "execution_count": 49,
     "metadata": {},
     "output_type": "execute_result"
    }
   ],
   "source": [
    "pd.unique(train['subEventName'])"
   ]
  },
  {
   "cell_type": "code",
   "execution_count": 138,
   "metadata": {
    "Collapsed": "false"
   },
   "outputs": [
    {
     "data": {
      "text/html": [
       "<div>\n",
       "<style scoped>\n",
       "    .dataframe tbody tr th:only-of-type {\n",
       "        vertical-align: middle;\n",
       "    }\n",
       "\n",
       "    .dataframe tbody tr th {\n",
       "        vertical-align: top;\n",
       "    }\n",
       "\n",
       "    .dataframe thead th {\n",
       "        text-align: right;\n",
       "    }\n",
       "</style>\n",
       "<table border=\"1\" class=\"dataframe\">\n",
       "  <thead>\n",
       "    <tr style=\"text-align: right;\">\n",
       "      <th></th>\n",
       "      <th>eventId</th>\n",
       "      <th>subEventName</th>\n",
       "      <th>tags</th>\n",
       "      <th>playerId</th>\n",
       "      <th>positions</th>\n",
       "      <th>matchId</th>\n",
       "      <th>eventName</th>\n",
       "      <th>teamId</th>\n",
       "      <th>matchPeriod</th>\n",
       "      <th>eventSec</th>\n",
       "      <th>...</th>\n",
       "      <th>Y0</th>\n",
       "      <th>X0</th>\n",
       "      <th>Y1</th>\n",
       "      <th>X1</th>\n",
       "      <th>G_X</th>\n",
       "      <th>G_Y</th>\n",
       "      <th>distance</th>\n",
       "      <th>angle</th>\n",
       "      <th>header</th>\n",
       "      <th>goal</th>\n",
       "    </tr>\n",
       "  </thead>\n",
       "  <tbody>\n",
       "    <tr>\n",
       "      <th>0</th>\n",
       "      <td>10</td>\n",
       "      <td>Shot</td>\n",
       "      <td>[{'id': 101}, {'id': 402}, {'id': 201}, {'id':...</td>\n",
       "      <td>25413</td>\n",
       "      <td>[{'y': 41, 'x': 88}, {'y': 0, 'x': 0}]</td>\n",
       "      <td>2499719</td>\n",
       "      <td>Shot</td>\n",
       "      <td>1609</td>\n",
       "      <td>1H</td>\n",
       "      <td>94.595788</td>\n",
       "      <td>...</td>\n",
       "      <td>27.88</td>\n",
       "      <td>92.40</td>\n",
       "      <td>0.0</td>\n",
       "      <td>0.0</td>\n",
       "      <td>105.0</td>\n",
       "      <td>34.0</td>\n",
       "      <td>14.007655</td>\n",
       "      <td>1.569891</td>\n",
       "      <td>0</td>\n",
       "      <td>1</td>\n",
       "    </tr>\n",
       "    <tr>\n",
       "      <th>1</th>\n",
       "      <td>10</td>\n",
       "      <td>Shot</td>\n",
       "      <td>[{'id': 401}, {'id': 201}, {'id': 1211}, {'id'...</td>\n",
       "      <td>26150</td>\n",
       "      <td>[{'y': 52, 'x': 85}, {'y': 100, 'x': 100}]</td>\n",
       "      <td>2499719</td>\n",
       "      <td>Shot</td>\n",
       "      <td>1631</td>\n",
       "      <td>1H</td>\n",
       "      <td>179.854785</td>\n",
       "      <td>...</td>\n",
       "      <td>35.36</td>\n",
       "      <td>89.25</td>\n",
       "      <td>68.0</td>\n",
       "      <td>105.0</td>\n",
       "      <td>105.0</td>\n",
       "      <td>34.0</td>\n",
       "      <td>15.808608</td>\n",
       "      <td>1.567103</td>\n",
       "      <td>0</td>\n",
       "      <td>0</td>\n",
       "    </tr>\n",
       "    <tr>\n",
       "      <th>2</th>\n",
       "      <td>10</td>\n",
       "      <td>Shot</td>\n",
       "      <td>[{'id': 401}, {'id': 201}, {'id': 1215}, {'id'...</td>\n",
       "      <td>7868</td>\n",
       "      <td>[{'y': 33, 'x': 81}, {'y': 0, 'x': 0}]</td>\n",
       "      <td>2499719</td>\n",
       "      <td>Shot</td>\n",
       "      <td>1609</td>\n",
       "      <td>1H</td>\n",
       "      <td>425.824035</td>\n",
       "      <td>...</td>\n",
       "      <td>22.44</td>\n",
       "      <td>85.05</td>\n",
       "      <td>0.0</td>\n",
       "      <td>0.0</td>\n",
       "      <td>105.0</td>\n",
       "      <td>34.0</td>\n",
       "      <td>23.057235</td>\n",
       "      <td>1.555279</td>\n",
       "      <td>0</td>\n",
       "      <td>0</td>\n",
       "    </tr>\n",
       "    <tr>\n",
       "      <th>3</th>\n",
       "      <td>10</td>\n",
       "      <td>Shot</td>\n",
       "      <td>[{'id': 402}, {'id': 201}, {'id': 1205}, {'id'...</td>\n",
       "      <td>7868</td>\n",
       "      <td>[{'y': 30, 'x': 75}, {'y': 0, 'x': 0}]</td>\n",
       "      <td>2499719</td>\n",
       "      <td>Shot</td>\n",
       "      <td>1609</td>\n",
       "      <td>1H</td>\n",
       "      <td>815.462015</td>\n",
       "      <td>...</td>\n",
       "      <td>20.40</td>\n",
       "      <td>78.75</td>\n",
       "      <td>0.0</td>\n",
       "      <td>0.0</td>\n",
       "      <td>105.0</td>\n",
       "      <td>34.0</td>\n",
       "      <td>29.563872</td>\n",
       "      <td>1.542756</td>\n",
       "      <td>0</td>\n",
       "      <td>0</td>\n",
       "    </tr>\n",
       "    <tr>\n",
       "      <th>4</th>\n",
       "      <td>10</td>\n",
       "      <td>Shot</td>\n",
       "      <td>[{'id': 401}, {'id': 2101}, {'id': 1802}]</td>\n",
       "      <td>7945</td>\n",
       "      <td>[{'y': 39, 'x': 90}, {'y': 0, 'x': 0}]</td>\n",
       "      <td>2499719</td>\n",
       "      <td>Shot</td>\n",
       "      <td>1609</td>\n",
       "      <td>1H</td>\n",
       "      <td>1286.061650</td>\n",
       "      <td>...</td>\n",
       "      <td>26.52</td>\n",
       "      <td>94.50</td>\n",
       "      <td>0.0</td>\n",
       "      <td>0.0</td>\n",
       "      <td>105.0</td>\n",
       "      <td>34.0</td>\n",
       "      <td>12.891873</td>\n",
       "      <td>1.571525</td>\n",
       "      <td>0</td>\n",
       "      <td>0</td>\n",
       "    </tr>\n",
       "  </tbody>\n",
       "</table>\n",
       "<p>5 rows × 24 columns</p>\n",
       "</div>"
      ],
      "text/plain": [
       "   eventId subEventName                                               tags  \\\n",
       "0       10         Shot  [{'id': 101}, {'id': 402}, {'id': 201}, {'id':...   \n",
       "1       10         Shot  [{'id': 401}, {'id': 201}, {'id': 1211}, {'id'...   \n",
       "2       10         Shot  [{'id': 401}, {'id': 201}, {'id': 1215}, {'id'...   \n",
       "3       10         Shot  [{'id': 402}, {'id': 201}, {'id': 1205}, {'id'...   \n",
       "4       10         Shot          [{'id': 401}, {'id': 2101}, {'id': 1802}]   \n",
       "\n",
       "   playerId                                   positions  matchId eventName  \\\n",
       "0     25413      [{'y': 41, 'x': 88}, {'y': 0, 'x': 0}]  2499719      Shot   \n",
       "1     26150  [{'y': 52, 'x': 85}, {'y': 100, 'x': 100}]  2499719      Shot   \n",
       "2      7868      [{'y': 33, 'x': 81}, {'y': 0, 'x': 0}]  2499719      Shot   \n",
       "3      7868      [{'y': 30, 'x': 75}, {'y': 0, 'x': 0}]  2499719      Shot   \n",
       "4      7945      [{'y': 39, 'x': 90}, {'y': 0, 'x': 0}]  2499719      Shot   \n",
       "\n",
       "   teamId matchPeriod     eventSec  ...     Y0     X0    Y1     X1    G_X  \\\n",
       "0    1609          1H    94.595788  ...  27.88  92.40   0.0    0.0  105.0   \n",
       "1    1631          1H   179.854785  ...  35.36  89.25  68.0  105.0  105.0   \n",
       "2    1609          1H   425.824035  ...  22.44  85.05   0.0    0.0  105.0   \n",
       "3    1609          1H   815.462015  ...  20.40  78.75   0.0    0.0  105.0   \n",
       "4    1609          1H  1286.061650  ...  26.52  94.50   0.0    0.0  105.0   \n",
       "\n",
       "    G_Y   distance     angle  header  goal  \n",
       "0  34.0  14.007655  1.569891       0     1  \n",
       "1  34.0  15.808608  1.567103       0     0  \n",
       "2  34.0  23.057235  1.555279       0     0  \n",
       "3  34.0  29.563872  1.542756       0     0  \n",
       "4  34.0  12.891873  1.571525       0     0  \n",
       "\n",
       "[5 rows x 24 columns]"
      ]
     },
     "execution_count": 138,
     "metadata": {},
     "output_type": "execute_result"
    }
   ],
   "source": [
    "shots=train[train['subEventName']=='Shot'].reset_index(drop=True)\n",
    "shots[['pos_start','pos_end']] = pd.DataFrame(shots.positions.to_list())\n",
    "shots[['Y0','X0']] = pd.DataFrame(shots.pos_start.to_list())\n",
    "shots[['Y1','X1']] = pd.DataFrame(shots.pos_end.to_list())\n",
    "\n",
    "pitchLengthX=105\n",
    "pitchWidthY=68\n",
    "goalWidth=7.32 #m\n",
    "\n",
    "shots['X0'] *= pitchLengthX/100;shots['X1'] *= pitchLengthX/100\n",
    "shots['Y0'] *= pitchWidthY/100;shots['Y1'] *= pitchWidthY/100\n",
    "\n",
    "shots['G_X'] = 100*pitchLengthX/100\n",
    "shots['G_Y'] = 50*pitchWidthY/100\n",
    "\n",
    "shots['distance'] = ((shots.G_X - shots.X0)**2 + (shots.G_Y - shots.Y0)**2)**0.5\n",
    "shots['angle'] = np.arctan(goalWidth*shots.X0 /(shots.distance - (goalWidth/2)**2))\n",
    "shots['angle'] = shots.angle.apply(lambda a: np.pi+a if a<0 else a)\n",
    "\n",
    "# tag headers and remove them\n",
    "shots['header'] = shots.tags.apply(lambda row: int(403 in [x['id'] for x in row])) # 403 is header shot tag id\n",
    "shots = shots.query('header==0').reset_index(drop=True)\n",
    "\n",
    "# tag goals\n",
    "shots['goal'] = shots.tags.apply(lambda row: int(101 in [x['id'] for x in row])) # 101 is goal shot tag id\n",
    "\n",
    "\n",
    "shots.head()"
   ]
  },
  {
   "cell_type": "code",
   "execution_count": 171,
   "metadata": {
    "Collapsed": "false"
   },
   "outputs": [
    {
     "data": {
      "image/png": "[encoded data removed]",
      "text/plain": [
       "<Figure size 432x288 with 2 Axes>"
      ]
     },
     "metadata": {
      "needs_background": "light"
     },
     "output_type": "display_data"
    }
   ],
   "source": [
    "#Two dimensional histogram\n",
    "H_Shot=np.histogram2d(shots.X0, shots.Y0,bins=50,range=[[0, pitchLengthX],[0, pitchWidthY]])\n",
    "goals_only=shots[shots.goal==1]\n",
    "H_Goal=np.histogram2d(goals_only.X0, goals_only.Y0,bins=50,range=[[0, pitchLengthX],[0, pitchWidthY]])\n",
    "\n",
    "#Plot the number of shots from different points\n",
    "(fig,ax) = createGoalMouth()\n",
    "pos=ax.imshow(H_Shot[0], \n",
    "#               extent=[-0.5,68,105,0], \n",
    "              aspect='auto',cmap=plt.cm.Reds)\n",
    "fig.colorbar(pos, ax=ax)\n",
    "ax.set_title('Number of shots')\n",
    "# plt.xlim((-1,66))\n",
    "# plt.ylim((0,35))\n",
    "plt.tight_layout()\n",
    "plt.gca().set_aspect('equal', adjustable='box')\n",
    "plt.show()"
   ]
  },
  {
   "cell_type": "code",
   "execution_count": 140,
   "metadata": {
    "Collapsed": "false"
   },
   "outputs": [
    {
     "data": {
      "text/html": [
       "<div>\n",
       "<style scoped>\n",
       "    .dataframe tbody tr th:only-of-type {\n",
       "        vertical-align: middle;\n",
       "    }\n",
       "\n",
       "    .dataframe tbody tr th {\n",
       "        vertical-align: top;\n",
       "    }\n",
       "\n",
       "    .dataframe thead th {\n",
       "        text-align: right;\n",
       "    }\n",
       "</style>\n",
       "<table border=\"1\" class=\"dataframe\">\n",
       "  <thead>\n",
       "    <tr style=\"text-align: right;\">\n",
       "      <th></th>\n",
       "      <th>goal</th>\n",
       "      <th>X0</th>\n",
       "      <th>Y0</th>\n",
       "      <th>distance</th>\n",
       "      <th>angle</th>\n",
       "    </tr>\n",
       "  </thead>\n",
       "  <tbody>\n",
       "    <tr>\n",
       "      <th>0</th>\n",
       "      <td>1</td>\n",
       "      <td>92.40</td>\n",
       "      <td>27.88</td>\n",
       "      <td>14.007655</td>\n",
       "      <td>1.569891</td>\n",
       "    </tr>\n",
       "    <tr>\n",
       "      <th>1</th>\n",
       "      <td>0</td>\n",
       "      <td>89.25</td>\n",
       "      <td>35.36</td>\n",
       "      <td>15.808608</td>\n",
       "      <td>1.567103</td>\n",
       "    </tr>\n",
       "    <tr>\n",
       "      <th>2</th>\n",
       "      <td>0</td>\n",
       "      <td>85.05</td>\n",
       "      <td>22.44</td>\n",
       "      <td>23.057235</td>\n",
       "      <td>1.555279</td>\n",
       "    </tr>\n",
       "    <tr>\n",
       "      <th>3</th>\n",
       "      <td>0</td>\n",
       "      <td>78.75</td>\n",
       "      <td>20.40</td>\n",
       "      <td>29.563872</td>\n",
       "      <td>1.542756</td>\n",
       "    </tr>\n",
       "    <tr>\n",
       "      <th>4</th>\n",
       "      <td>0</td>\n",
       "      <td>94.50</td>\n",
       "      <td>26.52</td>\n",
       "      <td>12.891873</td>\n",
       "      <td>1.571525</td>\n",
       "    </tr>\n",
       "  </tbody>\n",
       "</table>\n",
       "</div>"
      ],
      "text/plain": [
       "   goal     X0     Y0   distance     angle\n",
       "0     1  92.40  27.88  14.007655  1.569891\n",
       "1     0  89.25  35.36  15.808608  1.567103\n",
       "2     0  85.05  22.44  23.057235  1.555279\n",
       "3     0  78.75  20.40  29.563872  1.542756\n",
       "4     0  94.50  26.52  12.891873  1.571525"
      ]
     },
     "execution_count": 140,
     "metadata": {},
     "output_type": "execute_result"
    }
   ],
   "source": [
    "shots[['goal','X0','Y0','distance','angle']].head()"
   ]
  },
  {
   "cell_type": "code",
   "execution_count": 139,
   "metadata": {
    "Collapsed": "false"
   },
   "outputs": [
    {
     "data": {
      "text/html": [
       "<div>\n",
       "<style scoped>\n",
       "    .dataframe tbody tr th:only-of-type {\n",
       "        vertical-align: middle;\n",
       "    }\n",
       "\n",
       "    .dataframe tbody tr th {\n",
       "        vertical-align: top;\n",
       "    }\n",
       "\n",
       "    .dataframe thead th {\n",
       "        text-align: right;\n",
       "    }\n",
       "</style>\n",
       "<table border=\"1\" class=\"dataframe\">\n",
       "  <thead>\n",
       "    <tr style=\"text-align: right;\">\n",
       "      <th></th>\n",
       "      <th>Goal</th>\n",
       "      <th>X</th>\n",
       "      <th>Y</th>\n",
       "      <th>C</th>\n",
       "      <th>Distance</th>\n",
       "      <th>Angle</th>\n",
       "      <th>xG</th>\n",
       "      <th>D2</th>\n",
       "    </tr>\n",
       "  </thead>\n",
       "  <tbody>\n",
       "    <tr>\n",
       "      <th>0</th>\n",
       "      <td>1</td>\n",
       "      <td>12</td>\n",
       "      <td>41</td>\n",
       "      <td>9.0</td>\n",
       "      <td>13.891814</td>\n",
       "      <td>0.474451</td>\n",
       "      <td>0.171271</td>\n",
       "      <td>192.9825</td>\n",
       "    </tr>\n",
       "    <tr>\n",
       "      <th>1</th>\n",
       "      <td>0</td>\n",
       "      <td>15</td>\n",
       "      <td>52</td>\n",
       "      <td>2.0</td>\n",
       "      <td>15.803560</td>\n",
       "      <td>0.453823</td>\n",
       "      <td>0.162665</td>\n",
       "      <td>249.7525</td>\n",
       "    </tr>\n",
       "    <tr>\n",
       "      <th>3</th>\n",
       "      <td>0</td>\n",
       "      <td>19</td>\n",
       "      <td>33</td>\n",
       "      <td>17.0</td>\n",
       "      <td>22.805811</td>\n",
       "      <td>0.280597</td>\n",
       "      <td>0.103567</td>\n",
       "      <td>520.1050</td>\n",
       "    </tr>\n",
       "    <tr>\n",
       "      <th>4</th>\n",
       "      <td>0</td>\n",
       "      <td>25</td>\n",
       "      <td>30</td>\n",
       "      <td>20.0</td>\n",
       "      <td>29.292704</td>\n",
       "      <td>0.223680</td>\n",
       "      <td>0.088753</td>\n",
       "      <td>858.0625</td>\n",
       "    </tr>\n",
       "    <tr>\n",
       "      <th>5</th>\n",
       "      <td>0</td>\n",
       "      <td>10</td>\n",
       "      <td>39</td>\n",
       "      <td>11.0</td>\n",
       "      <td>12.703248</td>\n",
       "      <td>0.479051</td>\n",
       "      <td>0.173239</td>\n",
       "      <td>161.3725</td>\n",
       "    </tr>\n",
       "  </tbody>\n",
       "</table>\n",
       "</div>"
      ],
      "text/plain": [
       "  Goal   X   Y     C   Distance     Angle        xG        D2\n",
       "0    1  12  41   9.0  13.891814  0.474451  0.171271  192.9825\n",
       "1    0  15  52   2.0  15.803560  0.453823  0.162665  249.7525\n",
       "3    0  19  33  17.0  22.805811  0.280597  0.103567  520.1050\n",
       "4    0  25  30  20.0  29.292704  0.223680  0.088753  858.0625\n",
       "5    0  10  39  11.0  12.703248  0.479051  0.173239  161.3725"
      ]
     },
     "execution_count": 139,
     "metadata": {},
     "output_type": "execute_result"
    }
   ],
   "source": [
    "shots_model.head()"
   ]
  },
  {
   "cell_type": "code",
   "execution_count": 176,
   "metadata": {
    "Collapsed": "false"
   },
   "outputs": [
    {
     "data": {
      "text/plain": [
       "7134"
      ]
     },
     "execution_count": 176,
     "metadata": {},
     "output_type": "execute_result"
    }
   ],
   "source": [
    "len(shots)"
   ]
  },
  {
   "cell_type": "code",
   "execution_count": 220,
   "metadata": {
    "Collapsed": "false"
   },
   "outputs": [
    {
     "data": {
      "image/png": "[encoded data removed]",
      "text/plain": [
       "<Figure size 432x288 with 2 Axes>"
      ]
     },
     "metadata": {
      "needs_background": "light"
     },
     "output_type": "display_data"
    }
   ],
   "source": [
    "import sys\n",
    "%matplotlib inline\n",
    "sys.path.append(\"/mnt/d/xFootball/SoccermaticsForPython/\")#os.getcwd() + '/modules')\n",
    "from FCPython import createPitch\n",
    "pitchLengthX=105\n",
    "pitchWidthY=68\n",
    "(fig,ax) = createPitch(length=pitchLengthX,width=pitchWidthY,unity='meters',linecolor='gray')\n",
    "\n",
    "# for shot in shots.sample(200).itertuples():\n",
    "    \n",
    "#     ax.scatter(shot.X0,shot.Y0,\n",
    "#                s=20, \n",
    "#                color='green' if shot.goal==1 else 'red', \n",
    "#                alpha = 1 if shot.goal==1 else 0.3, \n",
    "#                zorder=3 if shot.goal==1 else 2,\n",
    "#                marker='o')\n",
    "#     ax.plot([shot.X0,shot.G_X],[shot.Y0,shot.G_Y], color='black', ls='--')\n",
    "ax.scatter(shot.G_X,shot.G_Y,s=30, marker='d', color='black')    \n",
    "\n",
    "H_Shot=np.histogram2d(shots.Y0,shots.X0, bins=50,range=[[0,pitchWidthY ],[0, pitchLengthX]])\n",
    "goals_only=shots[shots.goal==1]\n",
    "H_Goal=np.histogram2d(goals_only.X0, goals_only.Y0,bins=50,range=[[0, pitchLengthX],[0, pitchWidthY]])\n",
    "pos = ax.imshow(H_Shot[0],extent=[0,pitchLengthX,0,pitchWidthY],aspect='auto',cmap=plt.cm.Reds, zorder=0)\n",
    "# plt.xlim((-1,106))\n",
    "fig.colorbar(pos, ax=ax)\n",
    "ax.set_title('Number of shots')\n",
    "plt.tight_layout()\n",
    "plt.gca().set_aspect('equal', adjustable='box')"
   ]
  },
  {
   "cell_type": "code",
   "execution_count": 187,
   "metadata": {
    "Collapsed": "false"
   },
   "outputs": [
    {
     "data": {
      "text/plain": [
       "array([0., 0., 0., 0., 0., 0., 0., 0., 0., 0., 0., 0., 0., 0., 0., 0., 0.,\n",
       "       0., 0., 0., 0., 0., 0., 0., 0., 0., 0., 0., 0., 0., 0., 0., 0., 0.,\n",
       "       0., 0., 0., 0., 0., 0., 0., 0., 0., 0., 0., 0., 0., 0., 0., 0.])"
      ]
     },
     "execution_count": 187,
     "metadata": {},
     "output_type": "execute_result"
    }
   ],
   "source": [
    "H_Shot[0][0]"
   ]
  },
  {
   "cell_type": "code",
   "execution_count": 64,
   "metadata": {
    "Collapsed": "false"
   },
   "outputs": [
    {
     "data": {
      "image/png": "[encoded data removed]",
      "text/plain": [
       "<Figure size 432x288 with 2 Axes>"
      ]
     },
     "metadata": {
      "needs_background": "light"
     },
     "output_type": "display_data"
    }
   ],
   "source": [
    "shots_model=pd.DataFrame(columns=['Goal','X','Y'])\n",
    "\n",
    "#Go through the dataframe and calculate X, Y co-ordinates.\n",
    "#Distance from a line in the centre\n",
    "#Shot angle.\n",
    "#Details of tags can be found here: https://apidocs.wyscout.com/matches-wyid-events\n",
    "for i,shot in shots.iterrows():\n",
    "    \n",
    "    header=0\n",
    "    for shottags in shot['tags']:\n",
    "        if shottags['id']==403:\n",
    "            header=1\n",
    "    #Only include non-headers        \n",
    "    if not(header):        \n",
    "        shots_model.at[i,'X']=100-shot['positions'][0]['x']\n",
    "        shots_model.at[i,'Y']=shot['positions'][0]['y']\n",
    "        shots_model.at[i,'C']=abs(shot['positions'][0]['y']-50)\n",
    "    \n",
    "        #Distance in metres and shot angle in radians.\n",
    "        x=shots_model.at[i,'X']*105/100\n",
    "        y=shots_model.at[i,'C']*65/100\n",
    "        shots_model.at[i,'Distance']=np.sqrt(x**2 + y**2)\n",
    "        a = np.arctan(7.32 *x /(x**2 + y**2 - (7.32/2)**2))\n",
    "        if a<0:\n",
    "            a=np.pi+a\n",
    "        shots_model.at[i,'Angle'] =a\n",
    "    \n",
    "        #Was it a goal\n",
    "        shots_model.at[i,'Goal']=0\n",
    "        for shottags in shot['tags']:\n",
    "                #Tags contain that its a goal\n",
    "                if shottags['id']==101:\n",
    "                    shots_model.at[i,'Goal']=1\n",
    "\n",
    "#Two dimensional histogram\n",
    "H_Shot=np.histogram2d(shots_model['X'], shots_model['Y'],bins=50,range=[[0, 100],[0, 100]])\n",
    "goals_only=shots_model[shots_model['Goal']==1]\n",
    "H_Goal=np.histogram2d(goals_only['X'], goals_only['Y'],bins=50,range=[[0, 100],[0, 100]])\n",
    "\n",
    "\n",
    "\n",
    "#Plot the number of shots from different points\n",
    "from FCPython import createGoalMouth\n",
    "(fig,ax) = createGoalMouth()\n",
    "pos=ax.imshow(H_Shot[0], extent=[-1,66,104,-1], aspect='auto',cmap=plt.cm.Reds)\n",
    "fig.colorbar(pos, ax=ax)\n",
    "ax.set_title('Number of shots')\n",
    "plt.xlim((-1,66))\n",
    "plt.ylim((-3,35))\n",
    "plt.tight_layout()\n",
    "plt.gca().set_aspect('equal', adjustable='box')\n",
    "plt.show()"
   ]
  },
  {
   "cell_type": "code",
   "execution_count": 71,
   "metadata": {
    "Collapsed": "false"
   },
   "outputs": [
    {
     "data": {
      "image/png": "[encoded data removed]",
      "text/plain": [
       "<Figure size 432x288 with 2 Axes>"
      ]
     },
     "metadata": {
      "needs_background": "light"
     },
     "output_type": "display_data"
    }
   ],
   "source": [
    "#Plot the number of GOALS from different points\n",
    "(fig,ax) = createGoalMouth()\n",
    "pos=ax.imshow(H_Goal[0], extent=[-1,66,104,-1], aspect='auto',cmap=plt.cm.Reds)\n",
    "fig.colorbar(pos, ax=ax)\n",
    "ax.set_title('Number of goals')\n",
    "plt.xlim((-1,66))\n",
    "plt.ylim((-3,35))\n",
    "plt.tight_layout()\n",
    "plt.gca().set_aspect('equal', adjustable='box')\n",
    "plt.show()\n"
   ]
  },
  {
   "cell_type": "code",
   "execution_count": 72,
   "metadata": {
    "Collapsed": "false"
   },
   "outputs": [
    {
     "name": "stderr",
     "output_type": "stream",
     "text": [
      "/home/opunsoars/anaconda3/lib/python3.7/site-packages/ipykernel_launcher.py:3: RuntimeWarning: invalid value encountered in true_divide\n",
      "  This is separate from the ipykernel package so we can avoid doing imports until\n"
     ]
    },
    {
     "data": {
      "image/png": "[encoded data removed]",
      "text/plain": [
       "<Figure size 432x288 with 2 Axes>"
      ]
     },
     "metadata": {
      "needs_background": "light"
     },
     "output_type": "display_data"
    }
   ],
   "source": [
    "#Plot the probability of scoring from different points\n",
    "(fig,ax) = createGoalMouth()\n",
    "pos=ax.imshow(H_Goal[0]/H_Shot[0], extent=[-1,66,104,-1], aspect='auto',cmap=plt.cm.Reds,vmin=0, vmax=0.5)\n",
    "fig.colorbar(pos, ax=ax)\n",
    "ax.set_title('Proportion of shots resulting in a goal')\n",
    "plt.xlim((-1,66))\n",
    "plt.ylim((-3,35))\n",
    "plt.tight_layout()\n",
    "plt.gca().set_aspect('equal', adjustable='box')\n",
    "plt.show()"
   ]
  },
  {
   "cell_type": "code",
   "execution_count": 73,
   "metadata": {
    "Collapsed": "false"
   },
   "outputs": [
    {
     "data": {
      "image/png": "[encoded data removed]",
      "text/plain": [
       "<Figure size 432x288 with 1 Axes>"
      ]
     },
     "metadata": {
      "needs_background": "light"
     },
     "output_type": "display_data"
    }
   ],
   "source": [
    "#Plot a logistic curve\n",
    "b=[3, -3]\n",
    "x=np.arange(5,step=0.1)\n",
    "y=1/(1+np.exp(-b[0]-b[1]*x))\n",
    "fig,ax=plt.subplots(num=1)\n",
    "plt.ylim((-0.05,1.05))\n",
    "plt.xlim((0,5))\n",
    "ax.set_ylabel('y')\n",
    "ax.set_xlabel(\"x\") \n",
    "ax.plot(x, y, linestyle='solid', color='black')\n",
    "ax.spines['top'].set_visible(False)\n",
    "ax.spines['right'].set_visible(False)\n",
    "plt.show()\n"
   ]
  },
  {
   "cell_type": "code",
   "execution_count": 221,
   "metadata": {
    "Collapsed": "false"
   },
   "outputs": [
    {
     "data": {
      "image/png": "[encoded data removed]",
      "text/plain": [
       "<Figure size 432x288 with 1 Axes>"
      ]
     },
     "metadata": {
      "needs_background": "light"
     },
     "output_type": "display_data"
    }
   ],
   "source": [
    "shots_200=shots_model.iloc[:200]\n",
    "\n",
    "#Plot first 200 shots goal angle\n",
    "fig,ax=plt.subplots(num=1)\n",
    "ax.plot(shots_200['Angle']*180/np.pi, shots_200['Goal'], linestyle='none', marker= '.', markerSize= 12, color='black')\n",
    "ax.set_ylabel('Goal scored')\n",
    "ax.set_xlabel(\"Shot angle (degrees)\")\n",
    "plt.ylim((-0.05,1.05))\n",
    "ax.set_yticks([0,1])\n",
    "ax.set_yticklabels(['No','Yes'])\n",
    "plt.show()"
   ]
  },
  {
   "cell_type": "code",
   "execution_count": 74,
   "metadata": {
    "Collapsed": "false"
   },
   "outputs": [
    {
     "data": {
      "image/png": "[encoded data removed]",
      "text/plain": [
       "<Figure size 432x288 with 1 Axes>"
      ]
     },
     "metadata": {
      "needs_background": "light"
     },
     "output_type": "display_data"
    }
   ],
   "source": [
    "#Get first 200 shots\n",
    "shots_200=shots_model.iloc[:200]\n",
    "\n",
    "#Plot first 200 shots goal angle\n",
    "fig,ax=plt.subplots(num=1)\n",
    "ax.plot(shots_200['Angle']*180/np.pi, shots_200['Goal'], linestyle='none', marker= '.', markerSize= 12, color='black')\n",
    "ax.set_ylabel('Goal scored')\n",
    "ax.set_xlabel(\"Shot angle (degrees)\")\n",
    "plt.ylim((-0.05,1.05))\n",
    "ax.set_yticks([0,1])\n",
    "ax.set_yticklabels(['No','Yes'])\n",
    "plt.show()"
   ]
  },
  {
   "cell_type": "code",
   "execution_count": 76,
   "metadata": {
    "Collapsed": "false"
   },
   "outputs": [
    {
     "data": {
      "text/html": [
       "<div>\n",
       "<style scoped>\n",
       "    .dataframe tbody tr th:only-of-type {\n",
       "        vertical-align: middle;\n",
       "    }\n",
       "\n",
       "    .dataframe tbody tr th {\n",
       "        vertical-align: top;\n",
       "    }\n",
       "\n",
       "    .dataframe thead th {\n",
       "        text-align: right;\n",
       "    }\n",
       "</style>\n",
       "<table border=\"1\" class=\"dataframe\">\n",
       "  <thead>\n",
       "    <tr style=\"text-align: right;\">\n",
       "      <th></th>\n",
       "      <th>Goal</th>\n",
       "      <th>X</th>\n",
       "      <th>Y</th>\n",
       "      <th>C</th>\n",
       "      <th>Distance</th>\n",
       "      <th>Angle</th>\n",
       "    </tr>\n",
       "  </thead>\n",
       "  <tbody>\n",
       "    <tr>\n",
       "      <th>0</th>\n",
       "      <td>1</td>\n",
       "      <td>12</td>\n",
       "      <td>41</td>\n",
       "      <td>9.0</td>\n",
       "      <td>13.891814</td>\n",
       "      <td>0.474451</td>\n",
       "    </tr>\n",
       "    <tr>\n",
       "      <th>1</th>\n",
       "      <td>0</td>\n",
       "      <td>15</td>\n",
       "      <td>52</td>\n",
       "      <td>2.0</td>\n",
       "      <td>15.803560</td>\n",
       "      <td>0.453823</td>\n",
       "    </tr>\n",
       "    <tr>\n",
       "      <th>3</th>\n",
       "      <td>0</td>\n",
       "      <td>19</td>\n",
       "      <td>33</td>\n",
       "      <td>17.0</td>\n",
       "      <td>22.805811</td>\n",
       "      <td>0.280597</td>\n",
       "    </tr>\n",
       "    <tr>\n",
       "      <th>4</th>\n",
       "      <td>0</td>\n",
       "      <td>25</td>\n",
       "      <td>30</td>\n",
       "      <td>20.0</td>\n",
       "      <td>29.292704</td>\n",
       "      <td>0.223680</td>\n",
       "    </tr>\n",
       "    <tr>\n",
       "      <th>5</th>\n",
       "      <td>0</td>\n",
       "      <td>10</td>\n",
       "      <td>39</td>\n",
       "      <td>11.0</td>\n",
       "      <td>12.703248</td>\n",
       "      <td>0.479051</td>\n",
       "    </tr>\n",
       "    <tr>\n",
       "      <th>...</th>\n",
       "      <td>...</td>\n",
       "      <td>...</td>\n",
       "      <td>...</td>\n",
       "      <td>...</td>\n",
       "      <td>...</td>\n",
       "      <td>...</td>\n",
       "    </tr>\n",
       "    <tr>\n",
       "      <th>236</th>\n",
       "      <td>0</td>\n",
       "      <td>13</td>\n",
       "      <td>37</td>\n",
       "      <td>13.0</td>\n",
       "      <td>16.053816</td>\n",
       "      <td>0.388196</td>\n",
       "    </tr>\n",
       "    <tr>\n",
       "      <th>237</th>\n",
       "      <td>0</td>\n",
       "      <td>3</td>\n",
       "      <td>45</td>\n",
       "      <td>5.0</td>\n",
       "      <td>4.526036</td>\n",
       "      <td>1.272510</td>\n",
       "    </tr>\n",
       "    <tr>\n",
       "      <th>238</th>\n",
       "      <td>0</td>\n",
       "      <td>17</td>\n",
       "      <td>63</td>\n",
       "      <td>13.0</td>\n",
       "      <td>19.749051</td>\n",
       "      <td>0.333932</td>\n",
       "    </tr>\n",
       "    <tr>\n",
       "      <th>240</th>\n",
       "      <td>0</td>\n",
       "      <td>5</td>\n",
       "      <td>62</td>\n",
       "      <td>12.0</td>\n",
       "      <td>9.402260</td>\n",
       "      <td>0.473481</td>\n",
       "    </tr>\n",
       "    <tr>\n",
       "      <th>241</th>\n",
       "      <td>0</td>\n",
       "      <td>20</td>\n",
       "      <td>39</td>\n",
       "      <td>11.0</td>\n",
       "      <td>22.183834</td>\n",
       "      <td>0.310702</td>\n",
       "    </tr>\n",
       "  </tbody>\n",
       "</table>\n",
       "<p>200 rows × 6 columns</p>\n",
       "</div>"
      ],
      "text/plain": [
       "    Goal   X   Y     C   Distance     Angle\n",
       "0      1  12  41   9.0  13.891814  0.474451\n",
       "1      0  15  52   2.0  15.803560  0.453823\n",
       "3      0  19  33  17.0  22.805811  0.280597\n",
       "4      0  25  30  20.0  29.292704  0.223680\n",
       "5      0  10  39  11.0  12.703248  0.479051\n",
       "..   ...  ..  ..   ...        ...       ...\n",
       "236    0  13  37  13.0  16.053816  0.388196\n",
       "237    0   3  45   5.0   4.526036  1.272510\n",
       "238    0  17  63  13.0  19.749051  0.333932\n",
       "240    0   5  62  12.0   9.402260  0.473481\n",
       "241    0  20  39  11.0  22.183834  0.310702\n",
       "\n",
       "[200 rows x 6 columns]"
      ]
     },
     "execution_count": 76,
     "metadata": {},
     "output_type": "execute_result"
    }
   ],
   "source": [
    "shots_200"
   ]
  },
  {
   "cell_type": "code",
   "execution_count": 80,
   "metadata": {
    "Collapsed": "false"
   },
   "outputs": [
    {
     "name": "stderr",
     "output_type": "stream",
     "text": [
      "/home/opunsoars/anaconda3/lib/python3.7/site-packages/ipykernel_launcher.py:4: RuntimeWarning: invalid value encountered in true_divide\n",
      "  after removing the cwd from sys.path.\n"
     ]
    },
    {
     "data": {
      "image/png": "[encoded data removed]",
      "text/plain": [
       "<Figure size 432x288 with 1 Axes>"
      ]
     },
     "metadata": {
      "needs_background": "light"
     },
     "output_type": "display_data"
    }
   ],
   "source": [
    "#Show empirically how goal angle predicts probability of scoring\n",
    "shotcount_dist=np.histogram(shots_model['Angle']*180/np.pi,bins=40,range=[0, 150])\n",
    "goalcount_dist=np.histogram(goals_only['Angle']*180/np.pi,bins=40,range=[0, 150])\n",
    "prob_goal=np.divide(goalcount_dist[0],shotcount_dist[0])\n",
    "angle=shotcount_dist[1]\n",
    "midangle= (angle[:-1] + angle[1:])/2\n",
    "fig,ax=plt.subplots(num=2)\n",
    "ax.plot(midangle, prob_goal, linestyle='none', marker= '.', markerSize= 12, color='black')\n",
    "ax.set_ylabel('Probability chance scored')\n",
    "ax.set_xlabel(\"Shot angle (degrees)\")\n",
    "ax.spines['top'].set_visible(False)\n",
    "ax.spines['right'].set_visible(False)\n",
    "b=[3, -3]\n",
    "x=np.arange(150,step=0.1)\n",
    "y=1/(1+np.exp(b[0]+b[1]*x*np.pi/180)) \n",
    "ax.plot(x, y, linestyle='solid', color='black')\n",
    "plt.show()"
   ]
  },
  {
   "cell_type": "code",
   "execution_count": 83,
   "metadata": {
    "Collapsed": "false"
   },
   "outputs": [
    {
     "data": {
      "text/html": [
       "<div>\n",
       "<style scoped>\n",
       "    .dataframe tbody tr th:only-of-type {\n",
       "        vertical-align: middle;\n",
       "    }\n",
       "\n",
       "    .dataframe tbody tr th {\n",
       "        vertical-align: top;\n",
       "    }\n",
       "\n",
       "    .dataframe thead th {\n",
       "        text-align: right;\n",
       "    }\n",
       "</style>\n",
       "<table border=\"1\" class=\"dataframe\">\n",
       "  <thead>\n",
       "    <tr style=\"text-align: right;\">\n",
       "      <th></th>\n",
       "      <th>Goal</th>\n",
       "      <th>X</th>\n",
       "      <th>Y</th>\n",
       "      <th>C</th>\n",
       "      <th>Distance</th>\n",
       "      <th>Angle</th>\n",
       "      <th>xG</th>\n",
       "    </tr>\n",
       "  </thead>\n",
       "  <tbody>\n",
       "    <tr>\n",
       "      <th>0</th>\n",
       "      <td>1</td>\n",
       "      <td>12</td>\n",
       "      <td>41</td>\n",
       "      <td>9.0</td>\n",
       "      <td>13.891814</td>\n",
       "      <td>0.474451</td>\n",
       "      <td>0.171271</td>\n",
       "    </tr>\n",
       "    <tr>\n",
       "      <th>1</th>\n",
       "      <td>0</td>\n",
       "      <td>15</td>\n",
       "      <td>52</td>\n",
       "      <td>2.0</td>\n",
       "      <td>15.803560</td>\n",
       "      <td>0.453823</td>\n",
       "      <td>0.162665</td>\n",
       "    </tr>\n",
       "    <tr>\n",
       "      <th>3</th>\n",
       "      <td>0</td>\n",
       "      <td>19</td>\n",
       "      <td>33</td>\n",
       "      <td>17.0</td>\n",
       "      <td>22.805811</td>\n",
       "      <td>0.280597</td>\n",
       "      <td>0.103567</td>\n",
       "    </tr>\n",
       "    <tr>\n",
       "      <th>4</th>\n",
       "      <td>0</td>\n",
       "      <td>25</td>\n",
       "      <td>30</td>\n",
       "      <td>20.0</td>\n",
       "      <td>29.292704</td>\n",
       "      <td>0.223680</td>\n",
       "      <td>0.088753</td>\n",
       "    </tr>\n",
       "    <tr>\n",
       "      <th>5</th>\n",
       "      <td>0</td>\n",
       "      <td>10</td>\n",
       "      <td>39</td>\n",
       "      <td>11.0</td>\n",
       "      <td>12.703248</td>\n",
       "      <td>0.479051</td>\n",
       "      <td>0.173239</td>\n",
       "    </tr>\n",
       "  </tbody>\n",
       "</table>\n",
       "</div>"
      ],
      "text/plain": [
       "  Goal   X   Y     C   Distance     Angle        xG\n",
       "0    1  12  41   9.0  13.891814  0.474451  0.171271\n",
       "1    0  15  52   2.0  15.803560  0.453823  0.162665\n",
       "3    0  19  33  17.0  22.805811  0.280597  0.103567\n",
       "4    0  25  30  20.0  29.292704  0.223680  0.088753\n",
       "5    0  10  39  11.0  12.703248  0.479051  0.173239"
      ]
     },
     "execution_count": 83,
     "metadata": {},
     "output_type": "execute_result"
    }
   ],
   "source": [
    "#Now lets look at the likelihood of model given data\n",
    "xG=1/(1+np.exp(b[0]+b[1]*shots_model['Angle'])) \n",
    "shots_model = shots_model.assign(xG=xG)\n",
    "shots_40=shots_model.iloc[:40]\n",
    "shots_40.head()"
   ]
  },
  {
   "cell_type": "code",
   "execution_count": 85,
   "metadata": {
    "Collapsed": "false"
   },
   "outputs": [
    {
     "data": {
      "image/png": "[encoded data removed]",
      "text/plain": [
       "<Figure size 432x288 with 1 Axes>"
      ]
     },
     "metadata": {
      "needs_background": "light"
     },
     "output_type": "display_data"
    }
   ],
   "source": [
    "fig,ax=plt.subplots(num=1)\n",
    "ax.plot(shots_40['Angle']*180/np.pi, shots_40['Goal'], linestyle='none', marker= '.', markerSize= 12, color='black')\n",
    "ax.plot(x, y, linestyle='solid', color='black')\n",
    "ax.plot(x, 1-y, linestyle='solid', color='black')\n",
    "loglikelihood=0\n",
    "for item,shot in shots_40.iterrows():\n",
    "    ang=shot['Angle']*180/np.pi\n",
    "    if shot['Goal']==1:\n",
    "        loglikelihood=loglikelihood+np.log(shot['xG'])\n",
    "        ax.plot([ang,ang],[shot['Goal'],shot['xG']], color='red')\n",
    "    else:\n",
    "        loglikelihood=loglikelihood+np.log(1 - shot['xG'])\n",
    "        ax.plot([ang,ang],[shot['Goal'],1-shot['xG']], color='blue')\n",
    "    \n",
    "ax.set_ylabel('Goal scored')\n",
    "ax.set_xlabel(\"Shot angle (degrees)\")\n",
    "plt.ylim((-0.05,1.05))\n",
    "plt.xlim((0,80))\n",
    "plt.text(45,0.2,'Log-likelihood:') \n",
    "plt.text(45,0.1,str(loglikelihood))\n",
    "ax.set_yticks([0,1])\n",
    "ax.spines['top'].set_visible(False)\n",
    "ax.spines['right'].set_visible(False)\n",
    "# fig.savefig('Output/LikelihoodExample.pdf', dpi=None, bbox_inches=\"tight\")   \n",
    "plt.show()"
   ]
  },
  {
   "cell_type": "code",
   "execution_count": 86,
   "metadata": {
    "Collapsed": "false"
   },
   "outputs": [
    {
     "name": "stdout",
     "output_type": "stream",
     "text": [
      "                   Generalized Linear Model Regression Results                    \n",
      "==================================================================================\n",
      "Dep. Variable:     ['Goal[0]', 'Goal[1]']   No. Observations:                 7134\n",
      "Model:                                GLM   Df Residuals:                     7132\n",
      "Model Family:                    Binomial   Df Model:                            1\n",
      "Link Function:                      logit   Scale:                          1.0000\n",
      "Method:                              IRLS   Log-Likelihood:                -2056.3\n",
      "Date:                    Fri, 18 Sep 2020   Deviance:                       4112.7\n",
      "Time:                            11:57:32   Pearson chi2:                 6.70e+03\n",
      "No. Iterations:                         6                                         \n",
      "Covariance Type:                nonrobust                                         \n",
      "==============================================================================\n",
      "                 coef    std err          z      P>|z|      [0.025      0.975]\n",
      "------------------------------------------------------------------------------\n",
      "Intercept      3.7097      0.085     43.542      0.000       3.543       3.877\n",
      "Angle         -3.4553      0.153    -22.548      0.000      -3.756      -3.155\n",
      "==============================================================================\n"
     ]
    }
   ],
   "source": [
    "#Make single variable model of angle\n",
    "#Using logistic regression we find the optimal values of b\n",
    "#This process minimizes the loglikelihood\n",
    "test_model = smf.glm(formula=\"Goal ~ Angle\" , data=shots_model, \n",
    "                           family=sm.families.Binomial()).fit()\n",
    "print(test_model.summary())        \n",
    "b=test_model.params"
   ]
  },
  {
   "cell_type": "code",
   "execution_count": 87,
   "metadata": {
    "Collapsed": "false"
   },
   "outputs": [
    {
     "data": {
      "image/png": "[encoded data removed]",
      "text/plain": [
       "<Figure size 432x288 with 1 Axes>"
      ]
     },
     "metadata": {
      "needs_background": "light"
     },
     "output_type": "display_data"
    }
   ],
   "source": [
    "xGprob=1/(1+np.exp(b[0]+b[1]*midangle*np.pi/180)) \n",
    "fig,ax=plt.subplots(num=1)\n",
    "ax.plot(midangle, prob_goal, linestyle='none', marker= '.', markerSize= 12, color='black')\n",
    "ax.plot(midangle, xGprob, linestyle='solid', color='black')\n",
    "ax.set_ylabel('Probability chance scored')\n",
    "ax.set_xlabel(\"Shot angle (degrees)\")\n",
    "ax.spines['top'].set_visible(False)\n",
    "ax.spines['right'].set_visible(False)\n",
    "plt.show()"
   ]
  },
  {
   "cell_type": "code",
   "execution_count": 90,
   "metadata": {
    "Collapsed": "false"
   },
   "outputs": [
    {
     "name": "stderr",
     "output_type": "stream",
     "text": [
      "/home/opunsoars/anaconda3/lib/python3.7/site-packages/ipykernel_launcher.py:7: RuntimeWarning: invalid value encountered in true_divide\n",
      "  import sys\n"
     ]
    },
    {
     "name": "stdout",
     "output_type": "stream",
     "text": [
      "                   Generalized Linear Model Regression Results                    \n",
      "==================================================================================\n",
      "Dep. Variable:     ['Goal[0]', 'Goal[1]']   No. Observations:                 7134\n",
      "Model:                                GLM   Df Residuals:                     7132\n",
      "Model Family:                    Binomial   Df Model:                            1\n",
      "Link Function:                      logit   Scale:                          1.0000\n",
      "Method:                              IRLS   Log-Likelihood:                -2010.7\n",
      "Date:                    Fri, 18 Sep 2020   Deviance:                       4021.3\n",
      "Time:                            12:02:11   Pearson chi2:                 1.90e+04\n",
      "No. Iterations:                         6                                         \n",
      "Covariance Type:                nonrobust                                         \n",
      "==============================================================================\n",
      "                 coef    std err          z      P>|z|      [0.025      0.975]\n",
      "------------------------------------------------------------------------------\n",
      "Intercept     -0.5282      0.107     -4.914      0.000      -0.739      -0.318\n",
      "Distance       0.1654      0.007     22.908      0.000       0.151       0.180\n",
      "==============================================================================\n"
     ]
    },
    {
     "data": {
      "image/png": "[encoded data removed]",
      "text/plain": [
       "<Figure size 432x288 with 1 Axes>"
      ]
     },
     "metadata": {
      "needs_background": "light"
     },
     "output_type": "display_data"
    }
   ],
   "source": [
    "#Now lets look at distance from goal\n",
    "\n",
    "\n",
    "#Show empirically how distance from goal predicts probability of scoring\n",
    "shotcount_dist=np.histogram(shots_model['Distance'],bins=40,range=[0, 70])\n",
    "goalcount_dist=np.histogram(goals_only['Distance'],bins=40,range=[0, 70])\n",
    "prob_goal=np.divide(goalcount_dist[0],shotcount_dist[0])\n",
    "distance=shotcount_dist[1]\n",
    "middistance= (distance[:-1] + distance[1:])/2\n",
    "fig,ax=plt.subplots(num=1)\n",
    "ax.plot(middistance, prob_goal, linestyle='none', marker= '.', color='black')\n",
    "ax.set_ylabel('Probability chance scored')\n",
    "ax.set_xlabel(\"Distance from goal (metres)\")\n",
    "ax.spines['top'].set_visible(False)\n",
    "ax.spines['right'].set_visible(False)\n",
    "\n",
    "#Make single variable model of distance\n",
    "test_model = smf.glm(formula=\"Goal ~ Distance\" , data=shots_model, \n",
    "                           family=sm.families.Binomial()).fit()\n",
    "print(test_model.summary())        \n",
    "b=test_model.params\n",
    "xGprob=1/(1+np.exp(b[0]+b[1]*middistance)) \n",
    "ax.plot(middistance, xGprob, linestyle='solid', color='black')\n",
    "plt.show()"
   ]
  },
  {
   "cell_type": "code",
   "execution_count": 91,
   "metadata": {
    "Collapsed": "false"
   },
   "outputs": [
    {
     "name": "stdout",
     "output_type": "stream",
     "text": [
      "                   Generalized Linear Model Regression Results                    \n",
      "==================================================================================\n",
      "Dep. Variable:     ['Goal[0]', 'Goal[1]']   No. Observations:                 7134\n",
      "Model:                                GLM   Df Residuals:                     7131\n",
      "Model Family:                    Binomial   Df Model:                            2\n",
      "Link Function:                      logit   Scale:                          1.0000\n",
      "Method:                              IRLS   Log-Likelihood:                -1992.2\n",
      "Date:                    Fri, 18 Sep 2020   Deviance:                       3984.3\n",
      "Time:                            12:02:26   Pearson chi2:                 7.12e+03\n",
      "No. Iterations:                         7                                         \n",
      "Covariance Type:                nonrobust                                         \n",
      "==============================================================================\n",
      "                 coef    std err          z      P>|z|      [0.025      0.975]\n",
      "------------------------------------------------------------------------------\n",
      "Intercept     -1.3796      0.158     -8.736      0.000      -1.689      -1.070\n",
      "Distance       0.2893      0.018     16.353      0.000       0.255       0.324\n",
      "D2            -0.0038      0.000     -8.358      0.000      -0.005      -0.003\n",
      "==============================================================================\n"
     ]
    },
    {
     "data": {
      "image/png": "[encoded data removed]",
      "text/plain": [
       "<Figure size 432x288 with 1 Axes>"
      ]
     },
     "metadata": {
      "needs_background": "light"
     },
     "output_type": "display_data"
    }
   ],
   "source": [
    "#Adding distance squared\n",
    "squaredD = shots_model['Distance']**2\n",
    "shots_model = shots_model.assign(D2=squaredD)\n",
    "test_model = smf.glm(formula=\"Goal ~ Distance + D2\" , data=shots_model, \n",
    "                           family=sm.families.Binomial()).fit()\n",
    "print(test_model.summary())        \n",
    "b=test_model.params\n",
    "xGprob=1/(1+np.exp(b[0]+b[1]*middistance+b[2]*pow(middistance,2))) \n",
    "fig,ax=plt.subplots(num=1)\n",
    "ax.plot(middistance, prob_goal, linestyle='none', marker= '.', color='black')\n",
    "ax.set_ylabel('Probability chance scored')\n",
    "ax.set_xlabel(\"Distance from goal (metres)\")\n",
    "ax.spines['top'].set_visible(False)\n",
    "ax.spines['right'].set_visible(False)\n",
    "ax.plot(middistance, xGprob, linestyle='solid', color='black')\n",
    "plt.show()"
   ]
  },
  {
   "cell_type": "code",
   "execution_count": null,
   "metadata": {
    "Collapsed": "false"
   },
   "outputs": [],
   "source": []
  },
  {
   "cell_type": "code",
   "execution_count": null,
   "metadata": {
    "Collapsed": "false"
   },
   "outputs": [],
   "source": []
  },
  {
   "cell_type": "code",
   "execution_count": null,
   "metadata": {
    "Collapsed": "false"
   },
   "outputs": [],
   "source": []
  },
  {
   "cell_type": "code",
   "execution_count": null,
   "metadata": {
    "Collapsed": "false"
   },
   "outputs": [],
   "source": []
  },
  {
   "cell_type": "code",
   "execution_count": null,
   "metadata": {
    "Collapsed": "false"
   },
   "outputs": [],
   "source": []
  }
 ],
 "metadata": {
  "kernelspec": {
   "display_name": "Python 3",
   "language": "python",
   "name": "python3"
  },
  "language_info": {
   "codemirror_mode": {
    "name": "ipython",
    "version": 3
   },
   "file_extension": ".py",
   "mimetype": "text/x-python",
   "name": "python",
   "nbconvert_exporter": "python",
   "pygments_lexer": "ipython3",
   "version": "3.7.6"
  }
 },
 "nbformat": 4,
 "nbformat_minor": 4
}
