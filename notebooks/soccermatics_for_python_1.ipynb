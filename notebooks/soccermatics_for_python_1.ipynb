{
 "cells": [
  {
   "cell_type": "code",
   "execution_count": 1,
   "metadata": {
    "ExecuteTime": {
     "end_time": "2020-04-13T16:57:15.446395Z",
     "start_time": "2020-04-13T16:57:13.512621Z"
    }
   },
   "outputs": [
    {
     "name": "stderr",
     "output_type": "stream",
     "text": [
      "FutureWarning: pandas.core.index is deprecated and will be removed in a future version.  The public classes are available in the top-level namespace.\n",
      "UserWarning: The Dask Engine for Modin is experimental.\n"
     ]
    }
   ],
   "source": [
    "import json\n",
    "import modin.pandas as pd\n",
    "import glob\n",
    "import sys\n",
    "import warnings\n",
    "warnings.filterwarnings('ignore')"
   ]
  },
  {
   "cell_type": "markdown",
   "metadata": {},
   "source": [
    "# Make a shotmap and a passmap using statsbomb data"
   ]
  },
  {
   "cell_type": "code",
   "execution_count": 2,
   "metadata": {
    "ExecuteTime": {
     "end_time": "2020-04-13T16:57:17.133588Z",
     "start_time": "2020-04-13T16:57:16.686623Z"
    }
   },
   "outputs": [],
   "source": [
    "import matplotlib.pyplot as plt\n",
    "import numpy as np\n",
    "%matplotlib inline"
   ]
  },
  {
   "cell_type": "code",
   "execution_count": 3,
   "metadata": {
    "ExecuteTime": {
     "end_time": "2020-04-13T16:57:17.935497Z",
     "start_time": "2020-04-13T16:57:17.926184Z"
    }
   },
   "outputs": [],
   "source": [
    "# pitch size (yards)\n",
    "pitchLengthX=120\n",
    "pitchWidthY=80"
   ]
  },
  {
   "cell_type": "code",
   "execution_count": 4,
   "metadata": {
    "ExecuteTime": {
     "end_time": "2020-04-13T16:57:19.238867Z",
     "start_time": "2020-04-13T16:57:18.588510Z"
    }
   },
   "outputs": [
    {
     "data": {
      "text/html": [
       "<div>\n",
       "<style scoped>\n",
       "    .dataframe tbody tr th:only-of-type {\n",
       "        vertical-align: middle;\n",
       "    }\n",
       "\n",
       "    .dataframe tbody tr th {\n",
       "        vertical-align: top;\n",
       "    }\n",
       "\n",
       "    .dataframe thead th {\n",
       "        text-align: right;\n",
       "    }\n",
       "</style>\n",
       "<table border=\"1\" class=\"dataframe\">\n",
       "  <thead>\n",
       "    <tr style=\"text-align: right;\">\n",
       "      <th></th>\n",
       "      <th>id</th>\n",
       "      <th>index</th>\n",
       "      <th>period</th>\n",
       "      <th>timestamp</th>\n",
       "      <th>minute</th>\n",
       "      <th>second</th>\n",
       "      <th>possession</th>\n",
       "      <th>duration</th>\n",
       "      <th>type_id</th>\n",
       "      <th>type_name</th>\n",
       "      <th>...</th>\n",
       "      <th>bad_behaviour_card_id</th>\n",
       "      <th>bad_behaviour_card_name</th>\n",
       "      <th>pass_no_touch</th>\n",
       "      <th>pass_straight</th>\n",
       "      <th>block_save_block</th>\n",
       "      <th>foul_committed_advantage</th>\n",
       "      <th>foul_won_advantage</th>\n",
       "      <th>foul_committed_card_id</th>\n",
       "      <th>foul_committed_card_name</th>\n",
       "      <th>match_id</th>\n",
       "    </tr>\n",
       "  </thead>\n",
       "  <tbody>\n",
       "    <tr>\n",
       "      <th>0</th>\n",
       "      <td>e8643796-c76d-44f5-a03d-fa742e051942</td>\n",
       "      <td>1</td>\n",
       "      <td>1</td>\n",
       "      <td>00:00:00.000</td>\n",
       "      <td>0</td>\n",
       "      <td>0</td>\n",
       "      <td>1</td>\n",
       "      <td>0.00000</td>\n",
       "      <td>35</td>\n",
       "      <td>Starting XI</td>\n",
       "      <td>...</td>\n",
       "      <td>NaN</td>\n",
       "      <td>NaN</td>\n",
       "      <td>NaN</td>\n",
       "      <td>NaN</td>\n",
       "      <td>NaN</td>\n",
       "      <td>NaN</td>\n",
       "      <td>NaN</td>\n",
       "      <td>NaN</td>\n",
       "      <td>NaN</td>\n",
       "      <td>69301</td>\n",
       "    </tr>\n",
       "    <tr>\n",
       "      <th>1</th>\n",
       "      <td>937f83f8-674d-4c58-81d5-e2101a9f2e60</td>\n",
       "      <td>2</td>\n",
       "      <td>1</td>\n",
       "      <td>00:00:00.000</td>\n",
       "      <td>0</td>\n",
       "      <td>0</td>\n",
       "      <td>1</td>\n",
       "      <td>0.00000</td>\n",
       "      <td>35</td>\n",
       "      <td>Starting XI</td>\n",
       "      <td>...</td>\n",
       "      <td>NaN</td>\n",
       "      <td>NaN</td>\n",
       "      <td>NaN</td>\n",
       "      <td>NaN</td>\n",
       "      <td>NaN</td>\n",
       "      <td>NaN</td>\n",
       "      <td>NaN</td>\n",
       "      <td>NaN</td>\n",
       "      <td>NaN</td>\n",
       "      <td>69301</td>\n",
       "    </tr>\n",
       "    <tr>\n",
       "      <th>2</th>\n",
       "      <td>87ba272a-3af0-4fc7-872f-65e8f79fb753</td>\n",
       "      <td>3</td>\n",
       "      <td>1</td>\n",
       "      <td>00:00:00.000</td>\n",
       "      <td>0</td>\n",
       "      <td>0</td>\n",
       "      <td>1</td>\n",
       "      <td>0.00000</td>\n",
       "      <td>18</td>\n",
       "      <td>Half Start</td>\n",
       "      <td>...</td>\n",
       "      <td>NaN</td>\n",
       "      <td>NaN</td>\n",
       "      <td>NaN</td>\n",
       "      <td>NaN</td>\n",
       "      <td>NaN</td>\n",
       "      <td>NaN</td>\n",
       "      <td>NaN</td>\n",
       "      <td>NaN</td>\n",
       "      <td>NaN</td>\n",
       "      <td>69301</td>\n",
       "    </tr>\n",
       "    <tr>\n",
       "      <th>3</th>\n",
       "      <td>85d30bef-8b77-405e-bc64-c63ed4d7a6d7</td>\n",
       "      <td>4</td>\n",
       "      <td>1</td>\n",
       "      <td>00:00:00.000</td>\n",
       "      <td>0</td>\n",
       "      <td>0</td>\n",
       "      <td>1</td>\n",
       "      <td>0.00000</td>\n",
       "      <td>18</td>\n",
       "      <td>Half Start</td>\n",
       "      <td>...</td>\n",
       "      <td>NaN</td>\n",
       "      <td>NaN</td>\n",
       "      <td>NaN</td>\n",
       "      <td>NaN</td>\n",
       "      <td>NaN</td>\n",
       "      <td>NaN</td>\n",
       "      <td>NaN</td>\n",
       "      <td>NaN</td>\n",
       "      <td>NaN</td>\n",
       "      <td>69301</td>\n",
       "    </tr>\n",
       "    <tr>\n",
       "      <th>4</th>\n",
       "      <td>760528a6-2de2-427f-9795-b2b19819ef1f</td>\n",
       "      <td>5</td>\n",
       "      <td>1</td>\n",
       "      <td>00:00:00.140</td>\n",
       "      <td>0</td>\n",
       "      <td>0</td>\n",
       "      <td>2</td>\n",
       "      <td>0.16873</td>\n",
       "      <td>30</td>\n",
       "      <td>Pass</td>\n",
       "      <td>...</td>\n",
       "      <td>NaN</td>\n",
       "      <td>NaN</td>\n",
       "      <td>NaN</td>\n",
       "      <td>NaN</td>\n",
       "      <td>NaN</td>\n",
       "      <td>NaN</td>\n",
       "      <td>NaN</td>\n",
       "      <td>NaN</td>\n",
       "      <td>NaN</td>\n",
       "      <td>69301</td>\n",
       "    </tr>\n",
       "  </tbody>\n",
       "</table>\n",
       "<p>5 rows × 120 columns</p>\n",
       "</div>"
      ],
      "text/plain": [
       "                                     id  index  period     timestamp  minute  \\\n",
       "0  e8643796-c76d-44f5-a03d-fa742e051942      1       1  00:00:00.000       0   \n",
       "1  937f83f8-674d-4c58-81d5-e2101a9f2e60      2       1  00:00:00.000       0   \n",
       "2  87ba272a-3af0-4fc7-872f-65e8f79fb753      3       1  00:00:00.000       0   \n",
       "3  85d30bef-8b77-405e-bc64-c63ed4d7a6d7      4       1  00:00:00.000       0   \n",
       "4  760528a6-2de2-427f-9795-b2b19819ef1f      5       1  00:00:00.140       0   \n",
       "\n",
       "   second  possession  duration  type_id    type_name  ...  \\\n",
       "0       0           1   0.00000       35  Starting XI  ...   \n",
       "1       0           1   0.00000       35  Starting XI  ...   \n",
       "2       0           1   0.00000       18   Half Start  ...   \n",
       "3       0           1   0.00000       18   Half Start  ...   \n",
       "4       0           2   0.16873       30         Pass  ...   \n",
       "\n",
       "   bad_behaviour_card_id bad_behaviour_card_name  pass_no_touch pass_straight  \\\n",
       "0                    NaN                     NaN            NaN           NaN   \n",
       "1                    NaN                     NaN            NaN           NaN   \n",
       "2                    NaN                     NaN            NaN           NaN   \n",
       "3                    NaN                     NaN            NaN           NaN   \n",
       "4                    NaN                     NaN            NaN           NaN   \n",
       "\n",
       "   block_save_block foul_committed_advantage  foul_won_advantage  \\\n",
       "0               NaN                      NaN                 NaN   \n",
       "1               NaN                      NaN                 NaN   \n",
       "2               NaN                      NaN                 NaN   \n",
       "3               NaN                      NaN                 NaN   \n",
       "4               NaN                      NaN                 NaN   \n",
       "\n",
       "  foul_committed_card_id foul_committed_card_name match_id  \n",
       "0                    NaN                      NaN    69301  \n",
       "1                    NaN                      NaN    69301  \n",
       "2                    NaN                      NaN    69301  \n",
       "3                    NaN                      NaN    69301  \n",
       "4                    NaN                      NaN    69301  \n",
       "\n",
       "[5 rows x 120 columns]"
      ]
     },
     "execution_count": 4,
     "metadata": {},
     "output_type": "execute_result"
    }
   ],
   "source": [
    "# ENG v SWE - WWC19 \n",
    "match_id_required = 69301\n",
    "home_team_required = \"England Women's\"\n",
    "away_team_required = \"Sweden Women's\"\n",
    "\n",
    "file_name = '{}.json'.format(match_id_required)\n",
    "\n",
    "with open('../datahub/statsbomb/open-data/data/events/{}'.format(file_name)) as data_file:\n",
    "    data = json.load(data_file)\n",
    "\n",
    "from pandas.io.json import json_normalize\n",
    "df = json_normalize(data, sep = \"_\").assign(match_id = file_name[:-5])\n",
    "df.head()"
   ]
  },
  {
   "cell_type": "code",
   "execution_count": 5,
   "metadata": {
    "ExecuteTime": {
     "end_time": "2020-04-13T16:57:19.566503Z",
     "start_time": "2020-04-13T16:57:19.522722Z"
    }
   },
   "outputs": [
    {
     "data": {
      "text/html": [
       "<div>\n",
       "<style scoped>\n",
       "    .dataframe tbody tr th:only-of-type {\n",
       "        vertical-align: middle;\n",
       "    }\n",
       "\n",
       "    .dataframe tbody tr th {\n",
       "        vertical-align: top;\n",
       "    }\n",
       "\n",
       "    .dataframe thead th {\n",
       "        text-align: right;\n",
       "    }\n",
       "</style>\n",
       "<table border=\"1\" class=\"dataframe\">\n",
       "  <thead>\n",
       "    <tr style=\"text-align: right;\">\n",
       "      <th></th>\n",
       "      <th>index</th>\n",
       "      <th>period</th>\n",
       "      <th>timestamp</th>\n",
       "      <th>minute</th>\n",
       "      <th>second</th>\n",
       "      <th>possession</th>\n",
       "      <th>duration</th>\n",
       "      <th>type_id</th>\n",
       "      <th>type_name</th>\n",
       "      <th>possession_team_id</th>\n",
       "      <th>...</th>\n",
       "      <th>bad_behaviour_card_id</th>\n",
       "      <th>bad_behaviour_card_name</th>\n",
       "      <th>pass_no_touch</th>\n",
       "      <th>pass_straight</th>\n",
       "      <th>block_save_block</th>\n",
       "      <th>foul_committed_advantage</th>\n",
       "      <th>foul_won_advantage</th>\n",
       "      <th>foul_committed_card_id</th>\n",
       "      <th>foul_committed_card_name</th>\n",
       "      <th>match_id</th>\n",
       "    </tr>\n",
       "    <tr>\n",
       "      <th>id</th>\n",
       "      <th></th>\n",
       "      <th></th>\n",
       "      <th></th>\n",
       "      <th></th>\n",
       "      <th></th>\n",
       "      <th></th>\n",
       "      <th></th>\n",
       "      <th></th>\n",
       "      <th></th>\n",
       "      <th></th>\n",
       "      <th></th>\n",
       "      <th></th>\n",
       "      <th></th>\n",
       "      <th></th>\n",
       "      <th></th>\n",
       "      <th></th>\n",
       "      <th></th>\n",
       "      <th></th>\n",
       "      <th></th>\n",
       "      <th></th>\n",
       "      <th></th>\n",
       "    </tr>\n",
       "  </thead>\n",
       "  <tbody>\n",
       "    <tr>\n",
       "      <th>300ca316-03cf-4aa1-b12c-68d91ffb6f1e</th>\n",
       "      <td>2205</td>\n",
       "      <td>2</td>\n",
       "      <td>00:16:32.408</td>\n",
       "      <td>61</td>\n",
       "      <td>32</td>\n",
       "      <td>126</td>\n",
       "      <td>1.311600</td>\n",
       "      <td>16</td>\n",
       "      <td>Shot</td>\n",
       "      <td>865</td>\n",
       "      <td>...</td>\n",
       "      <td>NaN</td>\n",
       "      <td>NaN</td>\n",
       "      <td>NaN</td>\n",
       "      <td>NaN</td>\n",
       "      <td>NaN</td>\n",
       "      <td>NaN</td>\n",
       "      <td>NaN</td>\n",
       "      <td>NaN</td>\n",
       "      <td>NaN</td>\n",
       "      <td>69301</td>\n",
       "    </tr>\n",
       "    <tr>\n",
       "      <th>309f6f06-3977-49ac-8c0b-0e31b54404ed</th>\n",
       "      <td>742</td>\n",
       "      <td>1</td>\n",
       "      <td>00:22:46.449</td>\n",
       "      <td>22</td>\n",
       "      <td>46</td>\n",
       "      <td>37</td>\n",
       "      <td>1.118733</td>\n",
       "      <td>16</td>\n",
       "      <td>Shot</td>\n",
       "      <td>865</td>\n",
       "      <td>...</td>\n",
       "      <td>NaN</td>\n",
       "      <td>NaN</td>\n",
       "      <td>NaN</td>\n",
       "      <td>NaN</td>\n",
       "      <td>NaN</td>\n",
       "      <td>NaN</td>\n",
       "      <td>NaN</td>\n",
       "      <td>NaN</td>\n",
       "      <td>NaN</td>\n",
       "      <td>69301</td>\n",
       "    </tr>\n",
       "    <tr>\n",
       "      <th>cb2480d3-d896-4568-9fb5-d0a4d1a70ddd</th>\n",
       "      <td>1795</td>\n",
       "      <td>2</td>\n",
       "      <td>00:04:55.985</td>\n",
       "      <td>49</td>\n",
       "      <td>55</td>\n",
       "      <td>102</td>\n",
       "      <td>1.399900</td>\n",
       "      <td>16</td>\n",
       "      <td>Shot</td>\n",
       "      <td>865</td>\n",
       "      <td>...</td>\n",
       "      <td>NaN</td>\n",
       "      <td>NaN</td>\n",
       "      <td>NaN</td>\n",
       "      <td>NaN</td>\n",
       "      <td>NaN</td>\n",
       "      <td>NaN</td>\n",
       "      <td>NaN</td>\n",
       "      <td>NaN</td>\n",
       "      <td>NaN</td>\n",
       "      <td>69301</td>\n",
       "    </tr>\n",
       "  </tbody>\n",
       "</table>\n",
       "<p>3 rows × 119 columns</p>\n",
       "</div>"
      ],
      "text/plain": [
       "                                      index  period     timestamp  minute  \\\n",
       "id                                                                          \n",
       "300ca316-03cf-4aa1-b12c-68d91ffb6f1e   2205       2  00:16:32.408      61   \n",
       "309f6f06-3977-49ac-8c0b-0e31b54404ed    742       1  00:22:46.449      22   \n",
       "cb2480d3-d896-4568-9fb5-d0a4d1a70ddd   1795       2  00:04:55.985      49   \n",
       "\n",
       "                                      second  possession  duration  type_id  \\\n",
       "id                                                                            \n",
       "300ca316-03cf-4aa1-b12c-68d91ffb6f1e      32         126  1.311600       16   \n",
       "309f6f06-3977-49ac-8c0b-0e31b54404ed      46          37  1.118733       16   \n",
       "cb2480d3-d896-4568-9fb5-d0a4d1a70ddd      55         102  1.399900       16   \n",
       "\n",
       "                                     type_name  possession_team_id  ...  \\\n",
       "id                                                                  ...   \n",
       "300ca316-03cf-4aa1-b12c-68d91ffb6f1e      Shot                 865  ...   \n",
       "309f6f06-3977-49ac-8c0b-0e31b54404ed      Shot                 865  ...   \n",
       "cb2480d3-d896-4568-9fb5-d0a4d1a70ddd      Shot                 865  ...   \n",
       "\n",
       "                                     bad_behaviour_card_id  \\\n",
       "id                                                           \n",
       "300ca316-03cf-4aa1-b12c-68d91ffb6f1e                   NaN   \n",
       "309f6f06-3977-49ac-8c0b-0e31b54404ed                   NaN   \n",
       "cb2480d3-d896-4568-9fb5-d0a4d1a70ddd                   NaN   \n",
       "\n",
       "                                      bad_behaviour_card_name pass_no_touch  \\\n",
       "id                                                                            \n",
       "300ca316-03cf-4aa1-b12c-68d91ffb6f1e                      NaN           NaN   \n",
       "309f6f06-3977-49ac-8c0b-0e31b54404ed                      NaN           NaN   \n",
       "cb2480d3-d896-4568-9fb5-d0a4d1a70ddd                      NaN           NaN   \n",
       "\n",
       "                                      pass_straight block_save_block  \\\n",
       "id                                                                     \n",
       "300ca316-03cf-4aa1-b12c-68d91ffb6f1e            NaN              NaN   \n",
       "309f6f06-3977-49ac-8c0b-0e31b54404ed            NaN              NaN   \n",
       "cb2480d3-d896-4568-9fb5-d0a4d1a70ddd            NaN              NaN   \n",
       "\n",
       "                                      foul_committed_advantage  \\\n",
       "id                                                               \n",
       "300ca316-03cf-4aa1-b12c-68d91ffb6f1e                       NaN   \n",
       "309f6f06-3977-49ac-8c0b-0e31b54404ed                       NaN   \n",
       "cb2480d3-d896-4568-9fb5-d0a4d1a70ddd                       NaN   \n",
       "\n",
       "                                     foul_won_advantage  \\\n",
       "id                                                        \n",
       "300ca316-03cf-4aa1-b12c-68d91ffb6f1e                NaN   \n",
       "309f6f06-3977-49ac-8c0b-0e31b54404ed                NaN   \n",
       "cb2480d3-d896-4568-9fb5-d0a4d1a70ddd                NaN   \n",
       "\n",
       "                                     foul_committed_card_id  \\\n",
       "id                                                            \n",
       "300ca316-03cf-4aa1-b12c-68d91ffb6f1e                    NaN   \n",
       "309f6f06-3977-49ac-8c0b-0e31b54404ed                    NaN   \n",
       "cb2480d3-d896-4568-9fb5-d0a4d1a70ddd                    NaN   \n",
       "\n",
       "                                     foul_committed_card_name  match_id  \n",
       "id                                                                       \n",
       "300ca316-03cf-4aa1-b12c-68d91ffb6f1e                      NaN     69301  \n",
       "309f6f06-3977-49ac-8c0b-0e31b54404ed                      NaN     69301  \n",
       "cb2480d3-d896-4568-9fb5-d0a4d1a70ddd                      NaN     69301  \n",
       "\n",
       "[3 rows x 119 columns]"
      ]
     },
     "execution_count": 5,
     "metadata": {},
     "output_type": "execute_result"
    }
   ],
   "source": [
    "# shots dataframe\n",
    "shots = df.query(\"type_name=='Shot'\").set_index('id')\n",
    "shots.sample(3)"
   ]
  },
  {
   "cell_type": "code",
   "execution_count": 8,
   "metadata": {
    "ExecuteTime": {
     "end_time": "2020-04-13T16:58:09.618219Z",
     "start_time": "2020-04-13T16:58:09.612931Z"
    }
   },
   "outputs": [],
   "source": [
    "sys.path\n",
    "sys.path.insert(0,'/media/csivsw/crossOS/playground/friends_of_tracking/src/friends_of_tracking/SoccermaticsForPython/')"
   ]
  },
  {
   "cell_type": "code",
   "execution_count": 9,
   "metadata": {
    "ExecuteTime": {
     "end_time": "2020-04-13T16:58:11.066454Z",
     "start_time": "2020-04-13T16:58:10.740866Z"
    }
   },
   "outputs": [
    {
     "data": {
      "image/png": "[encoded data removed]",
      "text/plain": [
       "<Figure size 720x504 with 1 Axes>"
      ]
     },
     "metadata": {
      "needs_background": "light"
     },
     "output_type": "display_data"
    }
   ],
   "source": [
    "# draw the pitch\n",
    "from FCPython import createPitch\n",
    "\n",
    "(fig,ax) = createPitch(pitchLengthX,pitchWidthY,'yards','gray')\n",
    "\n",
    "#Plot the shots\n",
    "for i,shot in shots.iterrows():\n",
    "    x=shot['location'][0]\n",
    "    y=shot['location'][1]\n",
    "    \n",
    "    goal=shot['shot_outcome_name']=='Goal'\n",
    "    team_name=shot['team_name']\n",
    "    \n",
    "    circleSize=2\n",
    "    #circleSize=np.sqrt(shot['shot_statsbomb_xg']*15)\n",
    "\n",
    "    if (team_name==home_team_required):\n",
    "        if goal:\n",
    "            shotCircle=plt.Circle((x,pitchWidthY-y),circleSize,color=\"red\")\n",
    "            plt.text((x+1),pitchWidthY-y+1,shot['player_name']) \n",
    "        else:\n",
    "            shotCircle=plt.Circle((x,pitchWidthY-y),circleSize,color=\"red\")     \n",
    "            shotCircle.set_alpha(.2)\n",
    "    elif (team_name==away_team_required):\n",
    "        if goal:\n",
    "            shotCircle=plt.Circle((pitchLengthX-x,y),circleSize,color=\"blue\") \n",
    "            plt.text((pitchLengthX-x+1),y+1,shot['player_name']) \n",
    "        else:\n",
    "            shotCircle=plt.Circle((pitchLengthX-x,y),circleSize,color=\"blue\")      \n",
    "            shotCircle.set_alpha(.2)\n",
    "    ax.add_patch(shotCircle)\n",
    "    \n",
    "    \n",
    "plt.text(5,75,away_team_required + ' shots');\n",
    "plt.text(80,75,home_team_required + ' shots');\n",
    "\n",
    "fig.set_size_inches(10, 7)\n",
    "fig.savefig('../output/shots.pdf', dpi=100)"
   ]
  },
  {
   "cell_type": "markdown",
   "metadata": {},
   "source": [
    "#Exercise: \n",
    "#1, Create a dataframe of passes which contains all the passes in the match\n",
    "#2, Plot the start point of every Sweden pass. Attacking left to right.\n",
    "#3, Plot only passes made by Caroline Seger (she is Sara Caroline Seger in the database)\n",
    "#4, Plot arrows to show where the passes we"
   ]
  },
  {
   "cell_type": "code",
   "execution_count": 10,
   "metadata": {
    "ExecuteTime": {
     "end_time": "2020-04-13T16:58:16.841841Z",
     "start_time": "2020-04-13T16:58:16.794417Z"
    }
   },
   "outputs": [
    {
     "data": {
      "text/html": [
       "<div>\n",
       "<style scoped>\n",
       "    .dataframe tbody tr th:only-of-type {\n",
       "        vertical-align: middle;\n",
       "    }\n",
       "\n",
       "    .dataframe tbody tr th {\n",
       "        vertical-align: top;\n",
       "    }\n",
       "\n",
       "    .dataframe thead th {\n",
       "        text-align: right;\n",
       "    }\n",
       "</style>\n",
       "<table border=\"1\" class=\"dataframe\">\n",
       "  <thead>\n",
       "    <tr style=\"text-align: right;\">\n",
       "      <th></th>\n",
       "      <th>id</th>\n",
       "      <th>index</th>\n",
       "      <th>period</th>\n",
       "      <th>timestamp</th>\n",
       "      <th>minute</th>\n",
       "      <th>second</th>\n",
       "      <th>possession</th>\n",
       "      <th>duration</th>\n",
       "      <th>type_id</th>\n",
       "      <th>type_name</th>\n",
       "      <th>...</th>\n",
       "      <th>bad_behaviour_card_id</th>\n",
       "      <th>bad_behaviour_card_name</th>\n",
       "      <th>pass_no_touch</th>\n",
       "      <th>pass_straight</th>\n",
       "      <th>block_save_block</th>\n",
       "      <th>foul_committed_advantage</th>\n",
       "      <th>foul_won_advantage</th>\n",
       "      <th>foul_committed_card_id</th>\n",
       "      <th>foul_committed_card_name</th>\n",
       "      <th>match_id</th>\n",
       "    </tr>\n",
       "  </thead>\n",
       "  <tbody>\n",
       "    <tr>\n",
       "      <th>849</th>\n",
       "      <td>d237897d-20b3-4b12-b0e9-edfd7a4c6467</td>\n",
       "      <td>850</td>\n",
       "      <td>1</td>\n",
       "      <td>00:28:06.518</td>\n",
       "      <td>28</td>\n",
       "      <td>6</td>\n",
       "      <td>44</td>\n",
       "      <td>1.026500</td>\n",
       "      <td>30</td>\n",
       "      <td>Pass</td>\n",
       "      <td>...</td>\n",
       "      <td>NaN</td>\n",
       "      <td>NaN</td>\n",
       "      <td>NaN</td>\n",
       "      <td>NaN</td>\n",
       "      <td>NaN</td>\n",
       "      <td>NaN</td>\n",
       "      <td>NaN</td>\n",
       "      <td>NaN</td>\n",
       "      <td>NaN</td>\n",
       "      <td>69301</td>\n",
       "    </tr>\n",
       "    <tr>\n",
       "      <th>3253</th>\n",
       "      <td>fcc4ba23-e88c-4927-b39c-95a87c4f7800</td>\n",
       "      <td>3254</td>\n",
       "      <td>2</td>\n",
       "      <td>00:47:45.836</td>\n",
       "      <td>92</td>\n",
       "      <td>45</td>\n",
       "      <td>195</td>\n",
       "      <td>2.617000</td>\n",
       "      <td>30</td>\n",
       "      <td>Pass</td>\n",
       "      <td>...</td>\n",
       "      <td>NaN</td>\n",
       "      <td>NaN</td>\n",
       "      <td>NaN</td>\n",
       "      <td>NaN</td>\n",
       "      <td>NaN</td>\n",
       "      <td>NaN</td>\n",
       "      <td>NaN</td>\n",
       "      <td>NaN</td>\n",
       "      <td>NaN</td>\n",
       "      <td>69301</td>\n",
       "    </tr>\n",
       "    <tr>\n",
       "      <th>1060</th>\n",
       "      <td>966a6eae-e757-4b2b-8b0a-a312561b3245</td>\n",
       "      <td>1061</td>\n",
       "      <td>1</td>\n",
       "      <td>00:37:05.164</td>\n",
       "      <td>37</td>\n",
       "      <td>5</td>\n",
       "      <td>60</td>\n",
       "      <td>0.927591</td>\n",
       "      <td>30</td>\n",
       "      <td>Pass</td>\n",
       "      <td>...</td>\n",
       "      <td>NaN</td>\n",
       "      <td>NaN</td>\n",
       "      <td>NaN</td>\n",
       "      <td>NaN</td>\n",
       "      <td>NaN</td>\n",
       "      <td>NaN</td>\n",
       "      <td>NaN</td>\n",
       "      <td>NaN</td>\n",
       "      <td>NaN</td>\n",
       "      <td>69301</td>\n",
       "    </tr>\n",
       "  </tbody>\n",
       "</table>\n",
       "<p>3 rows × 120 columns</p>\n",
       "</div>"
      ],
      "text/plain": [
       "                                        id  index  period     timestamp  \\\n",
       "849   d237897d-20b3-4b12-b0e9-edfd7a4c6467    850       1  00:28:06.518   \n",
       "3253  fcc4ba23-e88c-4927-b39c-95a87c4f7800   3254       2  00:47:45.836   \n",
       "1060  966a6eae-e757-4b2b-8b0a-a312561b3245   1061       1  00:37:05.164   \n",
       "\n",
       "      minute  second  possession  duration  type_id type_name  ...  \\\n",
       "849       28       6          44  1.026500       30      Pass  ...   \n",
       "3253      92      45         195  2.617000       30      Pass  ...   \n",
       "1060      37       5          60  0.927591       30      Pass  ...   \n",
       "\n",
       "      bad_behaviour_card_id bad_behaviour_card_name  pass_no_touch  \\\n",
       "849                     NaN                     NaN            NaN   \n",
       "3253                    NaN                     NaN            NaN   \n",
       "1060                    NaN                     NaN            NaN   \n",
       "\n",
       "     pass_straight  block_save_block foul_committed_advantage  \\\n",
       "849            NaN               NaN                      NaN   \n",
       "3253           NaN               NaN                      NaN   \n",
       "1060           NaN               NaN                      NaN   \n",
       "\n",
       "      foul_won_advantage foul_committed_card_id foul_committed_card_name  \\\n",
       "849                  NaN                    NaN                      NaN   \n",
       "3253                 NaN                    NaN                      NaN   \n",
       "1060                 NaN                    NaN                      NaN   \n",
       "\n",
       "     match_id  \n",
       "849     69301  \n",
       "3253    69301  \n",
       "1060    69301  \n",
       "\n",
       "[3 rows x 120 columns]"
      ]
     },
     "execution_count": 10,
     "metadata": {},
     "output_type": "execute_result"
    }
   ],
   "source": [
    "passes = df.query(\"type_name=='Pass'\")\n",
    "passes.sample(3)"
   ]
  },
  {
   "cell_type": "markdown",
   "metadata": {},
   "source": [
    "# Plot the start point of every Sweden pass. Attacking left to right."
   ]
  },
  {
   "cell_type": "code",
   "execution_count": 53,
   "metadata": {
    "ExecuteTime": {
     "end_time": "2020-04-13T17:14:51.988086Z",
     "start_time": "2020-04-13T17:14:51.063228Z"
    }
   },
   "outputs": [
    {
     "data": {
      "image/png": "[encoded data removed]",
      "text/plain": [
       "<Figure size 720x504 with 1 Axes>"
      ]
     },
     "metadata": {
      "needs_background": "light"
     },
     "output_type": "display_data"
    }
   ],
   "source": [
    "(fig,ax) = createPitch(pitchLengthX,pitchWidthY,'yards','gray')\n",
    "\n",
    "\n",
    "for i,pass_ in passes.query(\"team_name.str.startswith('Sweden')\").iterrows():\n",
    "    x=pass_['location'][0]\n",
    "    y=pass_['location'][1]\n",
    "\n",
    "    team_name=pass_['team_name']\n",
    "    \n",
    "    circleSize=0.5\n",
    "    #circleSize=np.sqrt(shot['shot_statsbomb_xg']*15)\n",
    "    \n",
    "    shotCircle=plt.Circle((x,pitchWidthY-y),circleSize,color=\"red\")     \n",
    "    ax.add_patch(shotCircle)    \n",
    "    \n",
    "\n",
    "plt.title('All passes \\n{} team against {} team'.format(away_team_required, home_team_required), size=15) \n",
    "\n",
    "\n",
    "fig.set_size_inches(10, 7)"
   ]
  },
  {
   "cell_type": "markdown",
   "metadata": {},
   "source": [
    "# Plot only passes made by Caroline Seger (she is Sara Caroline Seger in the database)"
   ]
  },
  {
   "cell_type": "code",
   "execution_count": 52,
   "metadata": {
    "ExecuteTime": {
     "end_time": "2020-04-13T17:14:31.847410Z",
     "start_time": "2020-04-13T17:14:31.567129Z"
    }
   },
   "outputs": [
    {
     "data": {
      "image/png": "[encoded data removed]",
      "text/plain": [
       "<Figure size 720x504 with 1 Axes>"
      ]
     },
     "metadata": {
      "needs_background": "light"
     },
     "output_type": "display_data"
    }
   ],
   "source": [
    "(fig,ax) = createPitch(pitchLengthX,pitchWidthY,'yards','gray')\n",
    "\n",
    "\n",
    "for i,pass_ in passes.query(\"team_name.str.startswith('Sweden') & player_name=='Sara Caroline Seger'\").iterrows():\n",
    "    x=pass_['location'][0]\n",
    "    y=pass_['location'][1]\n",
    "\n",
    "    team_name=pass_['team_name']\n",
    "    \n",
    "    circleSize=1\n",
    "    #circleSize=np.sqrt(shot['shot_statsbomb_xg']*15)\n",
    "    \n",
    "    shotCircle=plt.Circle((x,pitchWidthY-y),circleSize, edgecolor='black', linewidth='1', facecolor='cyan')     \n",
    "    ax.add_patch(shotCircle)    \n",
    "    \n",
    "plt.title('{} : passes \\n{} team against {} team'.format('Sara Caroline Seger',away_team_required, home_team_required), size=15)  \n",
    "\n",
    "\n",
    "fig.set_size_inches(10, 7)"
   ]
  },
  {
   "cell_type": "markdown",
   "metadata": {},
   "source": [
    "# Plot arrows to show where the passes went"
   ]
  },
  {
   "cell_type": "code",
   "execution_count": 51,
   "metadata": {
    "ExecuteTime": {
     "end_time": "2020-04-13T17:14:14.700916Z",
     "start_time": "2020-04-13T17:14:14.414536Z"
    }
   },
   "outputs": [
    {
     "data": {
      "image/png": "[encoded data removed]",
      "text/plain": [
       "<Figure size 720x504 with 1 Axes>"
      ]
     },
     "metadata": {
      "needs_background": "light"
     },
     "output_type": "display_data"
    }
   ],
   "source": [
    "\n",
    "\n",
    "(fig,ax) = createPitch(pitchLengthX,pitchWidthY,'yards','gray')\n",
    "\n",
    "\n",
    "for i,pass_ in passes.query(\"team_name.str.startswith('Sweden') & player_name=='Sara Caroline Seger'\").iterrows():\n",
    "    x=pass_['location'][0]\n",
    "    y=pass_['location'][1]\n",
    "    x2 = pass_['pass_end_location'][0]\n",
    "    y2 = pass_['pass_end_location'][1]\n",
    "    team_name=pass_['team_name']\n",
    "    \n",
    "    circleSize=1\n",
    "    #circleSize=np.sqrt(shot['shot_statsbomb_xg']*15)\n",
    "    \n",
    "    shotCircle=plt.Circle((x,pitchWidthY-y),circleSize, edgecolor='black', linewidth='1', facecolor='cyan')     \n",
    "    ax.add_patch(shotCircle)    \n",
    "    plt.arrow(x,pitchWidthY-y,abs(x2-x),abs(y2-y), length_includes_head=True,\n",
    "          head_width=1, head_length=1, alpha=0.2)\n",
    "    \n",
    "plt.title('{} : passes \\n{} team against {} team'.format('Sara Caroline Seger',away_team_required, home_team_required), size=15) \n",
    "\n",
    "\n",
    "fig.set_size_inches(10, 7)"
   ]
  }
 ],
 "metadata": {
  "kernelspec": {
   "display_name": "Python 3.6.10 64-bit ('kickoff': conda)",
   "language": "python",
   "name": "python361064bitkickoffconda0429761356e34c7095cf0a0743665a00"
  },
  "language_info": {
   "codemirror_mode": {
    "name": "ipython",
    "version": 3
   },
   "file_extension": ".py",
   "mimetype": "text/x-python",
   "name": "python",
   "nbconvert_exporter": "python",
   "pygments_lexer": "ipython3",
   "version": "3.6.10"
  },
  "toc": {
   "base_numbering": 1,
   "nav_menu": {},
   "number_sections": true,
   "sideBar": true,
   "skip_h1_title": false,
   "title_cell": "Table of Contents",
   "title_sidebar": "Contents",
   "toc_cell": false,
   "toc_position": {},
   "toc_section_display": true,
   "toc_window_display": false
  },
  "varInspector": {
   "cols": {
    "lenName": 16,
    "lenType": 16,
    "lenVar": 40
   },
   "kernels_config": {
    "python": {
     "delete_cmd_postfix": "",
     "delete_cmd_prefix": "del ",
     "library": "var_list.py",
     "varRefreshCmd": "print(var_dic_list())"
    },
    "r": {
     "delete_cmd_postfix": ") ",
     "delete_cmd_prefix": "rm(",
     "library": "var_list.r",
     "varRefreshCmd": "cat(var_dic_list()) "
    }
   },
   "types_to_exclude": [
    "module",
    "function",
    "builtin_function_or_method",
    "instance",
    "_Feature"
   ],
   "window_display": false
  }
 },
 "nbformat": 4,
 "nbformat_minor": 2
}
