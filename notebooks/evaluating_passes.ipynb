{
 "cells": [
  {
   "cell_type": "code",
   "execution_count": 1,
   "metadata": {
    "Collapsed": "false"
   },
   "outputs": [],
   "source": [
    "import pandas as pd\n",
    "import numpy as np\n",
    "import json\n",
    "\n",
    "import os\n",
    "import sys\n",
    "sys.path.append(\"/mnt/d/xFootball/SoccermaticsForPython/\")#os.getcwd() + '/modules')\n",
    "\n",
    "\n",
    "import matplotlib.pyplot as plt\n",
    "%matplotlib inline\n",
    "from FCPython import *\n",
    "\n",
    "\n",
    "import statsmodels.api as sm\n",
    "import statsmodels.formula.api as smf"
   ]
  },
  {
   "cell_type": "code",
   "execution_count": 2,
   "metadata": {
    "Collapsed": "false"
   },
   "outputs": [],
   "source": [
    "pitchLengthX=105 #m\n",
    "pitchWidthY=68 #m\n",
    "goalWidth=7.32 #m"
   ]
  },
  {
   "cell_type": "code",
   "execution_count": null,
   "metadata": {
    "Collapsed": "false"
   },
   "outputs": [
    {
     "name": "stdout",
     "output_type": "stream",
     "text": [
      "added events_England.json with 306159 rows -> (306159, 13)\n",
      "added events_France.json with 299772 rows -> (605931, 13)\n",
      "added events_Germany.json with 243717 rows -> (849648, 13)\n"
     ]
    }
   ],
   "source": [
    "passes = pd.DataFrame()\n",
    "events_dir = '../../datahub/wyscout_figshare/Events/'\n",
    "for filename in os.listdir(events_dir):\n",
    "    if filename.count('_')==1:\n",
    "        df = pd.read_json(events_dir+filename)\n",
    "        df['league'] = filename.split('_')[1]\n",
    "        df = df.loc[df.subEventName.str.contains('pass')]\n",
    "        passes=pd.concat([passes,df]).reset_index(drop=True)\n",
    "        print (f\"added {filename} with {df.shape[0]} rows -> {passes.shape}\")\n",
    "        del df\n",
    "pd.unique(passes['subEventName'])"
   ]
  },
  {
   "cell_type": "code",
   "execution_count": null,
   "metadata": {
    "Collapsed": "false"
   },
   "outputs": [],
   "source": [
    "passes.sample(5)"
   ]
  },
  {
   "cell_type": "code",
   "execution_count": null,
   "metadata": {
    "Collapsed": "false"
   },
   "outputs": [],
   "source": []
  }
 ],
 "metadata": {
  "kernelspec": {
   "display_name": "Python 3",
   "language": "python",
   "name": "python3"
  },
  "language_info": {
   "codemirror_mode": {
    "name": "ipython",
    "version": 3
   },
   "file_extension": ".py",
   "mimetype": "text/x-python",
   "name": "python",
   "nbconvert_exporter": "python",
   "pygments_lexer": "ipython3",
   "version": "3.7.6"
  }
 },
 "nbformat": 4,
 "nbformat_minor": 4
}
